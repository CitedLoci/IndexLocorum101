{
 "cells": [
  {
   "cell_type": "markdown",
   "metadata": {},
   "source": [
    "# Step-by-step quick start guide to `CitationExtractor`"
   ]
  },
  {
   "cell_type": "markdown",
   "metadata": {},
   "source": [
    "# Running the pipeline from the command-line"
   ]
  },
  {
   "cell_type": "markdown",
   "metadata": {},
   "source": [
    "## Pre-processing"
   ]
  },
  {
   "cell_type": "markdown",
   "metadata": {},
   "source": [
    "What does it do?:\n",
    "- tokenization\n",
    "- language identification\n",
    "- sentence splitting (optional, depends on configuration)"
   ]
  },
  {
   "cell_type": "code",
   "execution_count": 10,
   "metadata": {},
   "outputs": [
    {
     "name": "stdout",
     "output_type": "stream",
     "text": [
      "No handlers could be found for logger \"citation_extractor.crfpp_wrap\"\n",
      "1.7.1\n"
     ]
    }
   ],
   "source": [
    "!citedloci-pipeline --version"
   ]
  },
  {
   "cell_type": "code",
   "execution_count": 6,
   "metadata": {},
   "outputs": [
    {
     "name": "stdout",
     "output_type": "stream",
     "text": [
      "No handlers could be found for logger \"citation_extractor.crfpp_wrap\"\n",
      "Tue, 22 Jun 2021 16:55:50 - citation_extractor.Utils.IO - [INFO] Logger initialised\n",
      "Tue, 22 Jun 2021 16:55:50 - citation_extractor.Utils.IO - [INFO] Current working directory: /media/romanell/4T/matteo/ClassicsCitations/IndexLocorum101/data\n",
      "Tue, 22 Jun 2021 16:55:50 - citation_extractor.Utils.IO - [INFO] There are 1 docs to process\n",
      "Tue, 22 Jun 2021 16:55:50 - citation_extractor.Utils.IO - [INFO] Following documents will be processed: [u'bmcr_2013-01-10.txt']\n",
      "Tue, 22 Jun 2021 16:55:50 - citation_extractor.Utils.IO - [INFO] Env variable $TREETAGGER_HOME == /home/romanell/tree-tagger/\n",
      "Tue, 22 Jun 2021 16:55:50 - citation_extractor.Utils.IO - [INFO] Treetagger for fr successfully initialised\n",
      "Tue, 22 Jun 2021 16:55:50 - citation_extractor.Utils.IO - [INFO] Treetagger for en successfully initialised\n",
      "Tue, 22 Jun 2021 16:55:50 - citation_extractor.Utils.IO - [INFO] Treetagger for nl successfully initialised\n",
      "Tue, 22 Jun 2021 16:55:50 - citation_extractor.Utils.IO - [INFO] Treetagger for de successfully initialised\n",
      "Tue, 22 Jun 2021 16:55:50 - citation_extractor.Utils.IO - [INFO] Treetagger for it successfully initialised\n",
      "Tue, 22 Jun 2021 16:55:50 - citation_extractor.Utils.IO - [INFO] Treetagger for es successfully initialised\n",
      "Tue, 22 Jun 2021 16:55:50 - citation_extractor.Utils.IO - [INFO] Document \"bmcr_2013-01-10.txt\" has 77 sentences\n",
      "Tue, 22 Jun 2021 16:55:50 - citation_extractor.Utils.IO - [INFO] Written intermediate output to /media/romanell/4T/matteo/ClassicsCitations/IndexLocorum101/data/txt/bmcr_2013-01-10.txt\n",
      "Tue, 22 Jun 2021 16:55:50 - langid.langid - [INFO] initializing identifier\n",
      "Tue, 22 Jun 2021 16:55:51 - citation_extractor.Utils.IO - [INFO] Language detected=\"en\"\n",
      "Tue, 22 Jun 2021 16:56:09 - citation_extractor.Utils.IO - [INFO] Written IOB output to /media/romanell/4T/matteo/ClassicsCitations/IndexLocorum101/data/iob/bmcr_2013-01-10.txt\n",
      "CPU times: user 587 ms, sys: 87.7 ms, total: 675 ms\n",
      "Wall time: 21.6 s\n"
     ]
    }
   ],
   "source": [
    "%%time\n",
    "!citedloci-pipeline do preproc --config=config/project.ini"
   ]
  },
  {
   "cell_type": "markdown",
   "metadata": {},
   "source": [
    "## Named entity recognition"
   ]
  },
  {
   "cell_type": "markdown",
   "metadata": {},
   "source": [
    "Process all files:"
   ]
  },
  {
   "cell_type": "code",
   "execution_count": 3,
   "metadata": {},
   "outputs": [
    {
     "name": "stdout",
     "output_type": "stream",
     "text": [
      "No handlers could be found for logger \"citation_extractor.crfpp_wrap\"\n",
      "Tue, 22 Jun 2021 16:51:22 - citation_extractor.Utils.IO - [INFO] Logger initialised\n",
      "Tue, 22 Jun 2021 16:51:22 - citation_extractor.Utils.IO - [INFO] Current working directory: /media/romanell/4T/matteo/ClassicsCitations/IndexLocorum101/data\n",
      "Tue, 22 Jun 2021 16:51:22 - citation_extractor.Utils.IO - [INFO] There are 1 docs to process\n",
      "Tue, 22 Jun 2021 16:51:22 - citation_extractor.Utils.IO - [INFO] Following documents will be processed: [u'bmcr_2013-01-10.txt']\n",
      "Tue, 22 Jun 2021 16:51:22 - citation_extractor.Utils.IO - [INFO] Extractor loaded from pickle /media/romanell/4T/matteo/ClassicsCitations/IndexLocorum101/pickles/extractor.pkl\n",
      "Tue, 22 Jun 2021 16:51:24 - citation_extractor.Utils.IO - [INFO] Output successfully written to file\n",
      "Tue, 22 Jun 2021 16:51:24 - citation_extractor.io.converters - [WARNING] No knowledge based was provided, thus `self._convert_disambiguations()` won't work.\n",
      "Tue, 22 Jun 2021 16:51:24 - citation_extractor.io.converters - [INFO] Document bmcr_2013-01-10 has 75 sentences\n",
      "Tue, 22 Jun 2021 16:51:24 - citation_extractor.Utils.IO - [INFO] Finished processing document bmcr_2013-01-10.txt\n"
     ]
    }
   ],
   "source": [
    "!citedloci-pipeline do ner --config=config/project.ini"
   ]
  },
  {
   "cell_type": "markdown",
   "metadata": {},
   "source": [
    "Process one specific document (from input folders):"
   ]
  },
  {
   "cell_type": "code",
   "execution_count": 7,
   "metadata": {},
   "outputs": [
    {
     "name": "stdout",
     "output_type": "stream",
     "text": [
      "No handlers could be found for logger \"citation_extractor.crfpp_wrap\"\n",
      "Tue, 22 Jun 2021 16:57:18 - citation_extractor.Utils.IO - [INFO] Logger initialised\n",
      "Tue, 22 Jun 2021 16:57:18 - citation_extractor.Utils.IO - [INFO] Current working directory: /media/romanell/4T/matteo/ClassicsCitations/IndexLocorum101/data\n",
      "Tue, 22 Jun 2021 16:57:18 - citation_extractor.Utils.IO - [INFO] There are 1 docs to process\n",
      "Tue, 22 Jun 2021 16:57:18 - citation_extractor.Utils.IO - [INFO] Following documents will be processed: ['bmcr_2013-01-10.txt']\n",
      "Tue, 22 Jun 2021 16:57:19 - citation_extractor.Utils.IO - [INFO] Extractor loaded from pickle /media/romanell/4T/matteo/ClassicsCitations/IndexLocorum101/pickles/extractor.pkl\n",
      "Tue, 22 Jun 2021 16:57:20 - citation_extractor.Utils.IO - [INFO] Output successfully written to file\n",
      "Tue, 22 Jun 2021 16:57:20 - citation_extractor.io.converters - [WARNING] No knowledge based was provided, thus `self._convert_disambiguations()` won't work.\n",
      "Tue, 22 Jun 2021 16:57:20 - citation_extractor.io.converters - [INFO] Document bmcr_2013-01-10 has 75 sentences\n",
      "Tue, 22 Jun 2021 16:57:21 - citation_extractor.Utils.IO - [INFO] Finished processing document bmcr_2013-01-10.txt\n"
     ]
    }
   ],
   "source": [
    "!citedloci-pipeline do ner --config=config/project.ini --doc=bmcr_2013-01-10.txt"
   ]
  },
  {
   "cell_type": "code",
   "execution_count": 8,
   "metadata": {},
   "outputs": [
    {
     "name": "stdout",
     "output_type": "stream",
     "text": [
      "\u001b[1;39m{\r\n",
      "  \u001b[0m\u001b[34;1m\"11\"\u001b[0m\u001b[1;39m: \u001b[0m\u001b[1;39m{\r\n",
      "    \u001b[0m\u001b[34;1m\"end_offset\"\u001b[0m\u001b[1;39m: \u001b[0m\u001b[0;39m8562\u001b[0m\u001b[1;39m,\r\n",
      "    \u001b[0m\u001b[34;1m\"entity_type\"\u001b[0m\u001b[1;39m: \u001b[0m\u001b[0;32m\"AAUTHOR\"\u001b[0m\u001b[1;39m,\r\n",
      "    \u001b[0m\u001b[34;1m\"id\"\u001b[0m\u001b[1;39m: \u001b[0m\u001b[0;32m\"11\"\u001b[0m\u001b[1;39m,\r\n",
      "    \u001b[0m\u001b[34;1m\"start_offset\"\u001b[0m\u001b[1;39m: \u001b[0m\u001b[0;39m8553\u001b[0m\u001b[1;39m,\r\n",
      "    \u001b[0m\u001b[34;1m\"surface\"\u001b[0m\u001b[1;39m: \u001b[0m\u001b[0;32m\"Thucydide\"\u001b[0m\u001b[1;39m\r\n",
      "  \u001b[1;39m}\u001b[0m\u001b[1;39m,\r\n",
      "  \u001b[0m\u001b[34;1m\"10\"\u001b[0m\u001b[1;39m: \u001b[0m\u001b[1;39m{\r\n",
      "    \u001b[0m\u001b[34;1m\"end_offset\"\u001b[0m\u001b[1;39m: \u001b[0m\u001b[0;39m8427\u001b[0m\u001b[1;39m,\r\n",
      "    \u001b[0m\u001b[34;1m\"entity_type\"\u001b[0m\u001b[1;39m: \u001b[0m\u001b[0;32m\"AAUTHOR\"\u001b[0m\u001b[1;39m,\r\n",
      "    \u001b[0m\u001b[34;1m\"id\"\u001b[0m\u001b[1;39m: \u001b[0m\u001b[0;32m\"10\"\u001b[0m\u001b[1;39m,\r\n",
      "    \u001b[0m\u001b[34;1m\"start_offset\"\u001b[0m\u001b[1;39m: \u001b[0m\u001b[0;39m8416\u001b[0m\u001b[1;39m,\r\n",
      "    \u001b[0m\u001b[34;1m\"surface\"\u001b[0m\u001b[1;39m: \u001b[0m\u001b[0;32m\"Thucydides,\"\u001b[0m\u001b[1;39m\r\n",
      "  \u001b[1;39m}\u001b[0m\u001b[1;39m,\r\n",
      "  \u001b[0m\u001b[34;1m\"13\"\u001b[0m\u001b[1;39m: \u001b[0m\u001b[1;39m{\r\n",
      "    \u001b[0m\u001b[34;1m\"entity_type\"\u001b[0m\u001b[1;39m: \u001b[0m\u001b[0;32m\"REFAUWORK\"\u001b[0m\u001b[1;39m,\r\n",
      "    \u001b[0m\u001b[34;1m\"urn\"\u001b[0m\u001b[1;39m: \u001b[0m\u001b[0;32m\"urn:cts:greekLit:tlg0016.tlg001\"\u001b[0m\u001b[1;39m,\r\n",
      "    \u001b[0m\u001b[34;1m\"start_offset\"\u001b[0m\u001b[1;39m: \u001b[0m\u001b[0;39m9859\u001b[0m\u001b[1;39m,\r\n",
      "    \u001b[0m\u001b[34;1m\"work_uri\"\u001b[0m\u001b[1;39m: \u001b[0m\u001b[0;32m\"http://purl.org/hucit/kb/works/2691\"\u001b[0m\u001b[1;39m,\r\n",
      "    \u001b[0m\u001b[34;1m\"surface\"\u001b[0m\u001b[1;39m: \u001b[0m\u001b[0;32m\"(Hdt.\"\u001b[0m\u001b[1;39m,\r\n",
      "    \u001b[0m\u001b[34;1m\"end_offset\"\u001b[0m\u001b[1;39m: \u001b[0m\u001b[0;39m9864\u001b[0m\u001b[1;39m,\r\n",
      "    \u001b[0m\u001b[34;1m\"id\"\u001b[0m\u001b[1;39m: \u001b[0m\u001b[0;32m\"13\"\u001b[0m\u001b[1;39m\r\n",
      "  \u001b[1;39m}\u001b[0m\u001b[1;39m,\r\n",
      "  \u001b[0m\u001b[34;1m\"12\"\u001b[0m\u001b[1;39m: \u001b[0m\u001b[1;39m{\r\n",
      "    \u001b[0m\u001b[34;1m\"end_offset\"\u001b[0m\u001b[1;39m: \u001b[0m\u001b[0;39m9801\u001b[0m\u001b[1;39m,\r\n",
      "    \u001b[0m\u001b[34;1m\"entity_type\"\u001b[0m\u001b[1;39m: \u001b[0m\u001b[0;32m\"AAUTHOR\"\u001b[0m\u001b[1;39m,\r\n",
      "    \u001b[0m\u001b[34;1m\"id\"\u001b[0m\u001b[1;39m: \u001b[0m\u001b[0;32m\"12\"\u001b[0m\u001b[1;39m,\r\n",
      "    \u001b[0m\u001b[34;1m\"start_offset\"\u001b[0m\u001b[1;39m: \u001b[0m\u001b[0;39m9792\u001b[0m\u001b[1;39m,\r\n",
      "    \u001b[0m\u001b[34;1m\"surface\"\u001b[0m\u001b[1;39m: \u001b[0m\u001b[0;32m\"Herodotus\"\u001b[0m\u001b[1;39m\r\n",
      "  \u001b[1;39m}\u001b[0m\u001b[1;39m,\r\n",
      "  \u001b[0m\u001b[34;1m\"14\"\u001b[0m\u001b[1;39m: \u001b[0m\u001b[1;39m{\r\n",
      "    \u001b[0m\u001b[34;1m\"entity_type\"\u001b[0m\u001b[1;39m: \u001b[0m\u001b[0;32m\"REFSCOPE\"\u001b[0m\u001b[1;39m,\r\n",
      "    \u001b[0m\u001b[34;1m\"norm_scope\"\u001b[0m\u001b[1;39m: \u001b[0m\u001b[0;32m\"3.38.5\"\u001b[0m\u001b[1;39m,\r\n",
      "    \u001b[0m\u001b[34;1m\"start_offset\"\u001b[0m\u001b[1;39m: \u001b[0m\u001b[0;39m9865\u001b[0m\u001b[1;39m,\r\n",
      "    \u001b[0m\u001b[34;1m\"surface\"\u001b[0m\u001b[1;39m: \u001b[0m\u001b[0;32m\"3.38.5).\"\u001b[0m\u001b[1;39m,\r\n",
      "    \u001b[0m\u001b[34;1m\"end_offset\"\u001b[0m\u001b[1;39m: \u001b[0m\u001b[0;39m9873\u001b[0m\u001b[1;39m,\r\n",
      "    \u001b[0m\u001b[34;1m\"id\"\u001b[0m\u001b[1;39m: \u001b[0m\u001b[0;32m\"14\"\u001b[0m\u001b[1;39m\r\n",
      "  \u001b[1;39m}\u001b[0m\u001b[1;39m,\r\n",
      "  \u001b[0m\u001b[34;1m\"1\"\u001b[0m\u001b[1;39m: \u001b[0m\u001b[1;39m{\r\n",
      "    \u001b[0m\u001b[34;1m\"end_offset\"\u001b[0m\u001b[1;39m: \u001b[0m\u001b[0;39m704\u001b[0m\u001b[1;39m,\r\n",
      "    \u001b[0m\u001b[34;1m\"entity_type\"\u001b[0m\u001b[1;39m: \u001b[0m\u001b[0;32m\"AAUTHOR\"\u001b[0m\u001b[1;39m,\r\n",
      "    \u001b[0m\u001b[34;1m\"id\"\u001b[0m\u001b[1;39m: \u001b[0m\u001b[0;32m\"1\"\u001b[0m\u001b[1;39m,\r\n",
      "    \u001b[0m\u001b[34;1m\"start_offset\"\u001b[0m\u001b[1;39m: \u001b[0m\u001b[0;39m694\u001b[0m\u001b[1;39m,\r\n",
      "    \u001b[0m\u001b[34;1m\"surface\"\u001b[0m\u001b[1;39m: \u001b[0m\u001b[0;32m\"Herodotus,\"\u001b[0m\u001b[1;39m\r\n",
      "  \u001b[1;39m}\u001b[0m\u001b[1;39m,\r\n",
      "  \u001b[0m\u001b[34;1m\"3\"\u001b[0m\u001b[1;39m: \u001b[0m\u001b[1;39m{\r\n",
      "    \u001b[0m\u001b[34;1m\"entity_type\"\u001b[0m\u001b[1;39m: \u001b[0m\u001b[0;32m\"REFAUWORK\"\u001b[0m\u001b[1;39m,\r\n",
      "    \u001b[0m\u001b[34;1m\"urn\"\u001b[0m\u001b[1;39m: \u001b[0m\u001b[0;32m\"urn:cts:greekLit:tlg0003.tlg001\"\u001b[0m\u001b[1;39m,\r\n",
      "    \u001b[0m\u001b[34;1m\"start_offset\"\u001b[0m\u001b[1;39m: \u001b[0m\u001b[0;39m1324\u001b[0m\u001b[1;39m,\r\n",
      "    \u001b[0m\u001b[34;1m\"work_uri\"\u001b[0m\u001b[1;39m: \u001b[0m\u001b[0;32m\"http://purl.org/hucit/kb/works/3998\"\u001b[0m\u001b[1;39m,\r\n",
      "    \u001b[0m\u001b[34;1m\"surface\"\u001b[0m\u001b[1;39m: \u001b[0m\u001b[0;32m\"(Thuc.\"\u001b[0m\u001b[1;39m,\r\n",
      "    \u001b[0m\u001b[34;1m\"end_offset\"\u001b[0m\u001b[1;39m: \u001b[0m\u001b[0;39m1330\u001b[0m\u001b[1;39m,\r\n",
      "    \u001b[0m\u001b[34;1m\"id\"\u001b[0m\u001b[1;39m: \u001b[0m\u001b[0;32m\"3\"\u001b[0m\u001b[1;39m\r\n",
      "  \u001b[1;39m}\u001b[0m\u001b[1;39m,\r\n",
      "  \u001b[0m\u001b[34;1m\"2\"\u001b[0m\u001b[1;39m: \u001b[0m\u001b[1;39m{\r\n",
      "    \u001b[0m\u001b[34;1m\"end_offset\"\u001b[0m\u001b[1;39m: \u001b[0m\u001b[0;39m715\u001b[0m\u001b[1;39m,\r\n",
      "    \u001b[0m\u001b[34;1m\"entity_type\"\u001b[0m\u001b[1;39m: \u001b[0m\u001b[0;32m\"AAUTHOR\"\u001b[0m\u001b[1;39m,\r\n",
      "    \u001b[0m\u001b[34;1m\"id\"\u001b[0m\u001b[1;39m: \u001b[0m\u001b[0;32m\"2\"\u001b[0m\u001b[1;39m,\r\n",
      "    \u001b[0m\u001b[34;1m\"start_offset\"\u001b[0m\u001b[1;39m: \u001b[0m\u001b[0;39m705\u001b[0m\u001b[1;39m,\r\n",
      "    \u001b[0m\u001b[34;1m\"surface\"\u001b[0m\u001b[1;39m: \u001b[0m\u001b[0;32m\"Thucydides\"\u001b[0m\u001b[1;39m\r\n",
      "  \u001b[1;39m}\u001b[0m\u001b[1;39m,\r\n",
      "  \u001b[0m\u001b[34;1m\"5\"\u001b[0m\u001b[1;39m: \u001b[0m\u001b[1;39m{\r\n",
      "    \u001b[0m\u001b[34;1m\"entity_type\"\u001b[0m\u001b[1;39m: \u001b[0m\u001b[0;32m\"REFAUWORK\"\u001b[0m\u001b[1;39m,\r\n",
      "    \u001b[0m\u001b[34;1m\"urn\"\u001b[0m\u001b[1;39m: \u001b[0m\u001b[0;32m\"urn:cts:greekLit:tlg0032.tlg001\"\u001b[0m\u001b[1;39m,\r\n",
      "    \u001b[0m\u001b[34;1m\"start_offset\"\u001b[0m\u001b[1;39m: \u001b[0m\u001b[0;39m1344\u001b[0m\u001b[1;39m,\r\n",
      "    \u001b[0m\u001b[34;1m\"work_uri\"\u001b[0m\u001b[1;39m: \u001b[0m\u001b[0;32m\"http://purl.org/hucit/kb/works/4025\"\u001b[0m\u001b[1;39m,\r\n",
      "    \u001b[0m\u001b[34;1m\"surface\"\u001b[0m\u001b[1;39m: \u001b[0m\u001b[0;32m\"Xen. Hell.\"\u001b[0m\u001b[1;39m,\r\n",
      "    \u001b[0m\u001b[34;1m\"end_offset\"\u001b[0m\u001b[1;39m: \u001b[0m\u001b[0;39m1354\u001b[0m\u001b[1;39m,\r\n",
      "    \u001b[0m\u001b[34;1m\"id\"\u001b[0m\u001b[1;39m: \u001b[0m\u001b[0;32m\"5\"\u001b[0m\u001b[1;39m\r\n",
      "  \u001b[1;39m}\u001b[0m\u001b[1;39m,\r\n",
      "  \u001b[0m\u001b[34;1m\"4\"\u001b[0m\u001b[1;39m: \u001b[0m\u001b[1;39m{\r\n",
      "    \u001b[0m\u001b[34;1m\"entity_type\"\u001b[0m\u001b[1;39m: \u001b[0m\u001b[0;32m\"REFSCOPE\"\u001b[0m\u001b[1;39m,\r\n",
      "    \u001b[0m\u001b[34;1m\"norm_scope\"\u001b[0m\u001b[1;39m: \u001b[0m\u001b[0;32m\"1.101.2\"\u001b[0m\u001b[1;39m,\r\n",
      "    \u001b[0m\u001b[34;1m\"start_offset\"\u001b[0m\u001b[1;39m: \u001b[0m\u001b[0;39m1331\u001b[0m\u001b[1;39m,\r\n",
      "    \u001b[0m\u001b[34;1m\"surface\"\u001b[0m\u001b[1;39m: \u001b[0m\u001b[0;32m\"1.101.2.\"\u001b[0m\u001b[1;39m,\r\n",
      "    \u001b[0m\u001b[34;1m\"end_offset\"\u001b[0m\u001b[1;39m: \u001b[0m\u001b[0;39m1339\u001b[0m\u001b[1;39m,\r\n",
      "    \u001b[0m\u001b[34;1m\"id\"\u001b[0m\u001b[1;39m: \u001b[0m\u001b[0;32m\"4\"\u001b[0m\u001b[1;39m\r\n",
      "  \u001b[1;39m}\u001b[0m\u001b[1;39m,\r\n",
      "  \u001b[0m\u001b[34;1m\"7\"\u001b[0m\u001b[1;39m: \u001b[0m\u001b[1;39m{\r\n",
      "    \u001b[0m\u001b[34;1m\"entity_type\"\u001b[0m\u001b[1;39m: \u001b[0m\u001b[0;32m\"REFAUWORK\"\u001b[0m\u001b[1;39m,\r\n",
      "    \u001b[0m\u001b[34;1m\"urn\"\u001b[0m\u001b[1;39m: \u001b[0m\u001b[0;32m\"urn:cts:GreekLatinLit:NIL\"\u001b[0m\u001b[1;39m,\r\n",
      "    \u001b[0m\u001b[34;1m\"start_offset\"\u001b[0m\u001b[1;39m: \u001b[0m\u001b[0;39m3740\u001b[0m\u001b[1;39m,\r\n",
      "    \u001b[0m\u001b[34;1m\"surface\"\u001b[0m\u001b[1;39m: \u001b[0m\u001b[0;32m\"Dike\"\u001b[0m\u001b[1;39m,\r\n",
      "    \u001b[0m\u001b[34;1m\"end_offset\"\u001b[0m\u001b[1;39m: \u001b[0m\u001b[0;39m3744\u001b[0m\u001b[1;39m,\r\n",
      "    \u001b[0m\u001b[34;1m\"id\"\u001b[0m\u001b[1;39m: \u001b[0m\u001b[0;32m\"7\"\u001b[0m\u001b[1;39m\r\n",
      "  \u001b[1;39m}\u001b[0m\u001b[1;39m,\r\n",
      "  \u001b[0m\u001b[34;1m\"6\"\u001b[0m\u001b[1;39m: \u001b[0m\u001b[1;39m{\r\n",
      "    \u001b[0m\u001b[34;1m\"entity_type\"\u001b[0m\u001b[1;39m: \u001b[0m\u001b[0;32m\"REFSCOPE\"\u001b[0m\u001b[1;39m,\r\n",
      "    \u001b[0m\u001b[34;1m\"norm_scope\"\u001b[0m\u001b[1;39m: \u001b[0m\u001b[0;32m\"3.3\"\u001b[0m\u001b[1;39m,\r\n",
      "    \u001b[0m\u001b[34;1m\"start_offset\"\u001b[0m\u001b[1;39m: \u001b[0m\u001b[0;39m1355\u001b[0m\u001b[1;39m,\r\n",
      "    \u001b[0m\u001b[34;1m\"surface\"\u001b[0m\u001b[1;39m: \u001b[0m\u001b[0;32m\"3.3)\"\u001b[0m\u001b[1;39m,\r\n",
      "    \u001b[0m\u001b[34;1m\"end_offset\"\u001b[0m\u001b[1;39m: \u001b[0m\u001b[0;39m1359\u001b[0m\u001b[1;39m,\r\n",
      "    \u001b[0m\u001b[34;1m\"id\"\u001b[0m\u001b[1;39m: \u001b[0m\u001b[0;32m\"6\"\u001b[0m\u001b[1;39m\r\n",
      "  \u001b[1;39m}\u001b[0m\u001b[1;39m,\r\n",
      "  \u001b[0m\u001b[34;1m\"9\"\u001b[0m\u001b[1;39m: \u001b[0m\u001b[1;39m{\r\n",
      "    \u001b[0m\u001b[34;1m\"end_offset\"\u001b[0m\u001b[1;39m: \u001b[0m\u001b[0;39m4803\u001b[0m\u001b[1;39m,\r\n",
      "    \u001b[0m\u001b[34;1m\"entity_type\"\u001b[0m\u001b[1;39m: \u001b[0m\u001b[0;32m\"AAUTHOR\"\u001b[0m\u001b[1;39m,\r\n",
      "    \u001b[0m\u001b[34;1m\"id\"\u001b[0m\u001b[1;39m: \u001b[0m\u001b[0;32m\"9\"\u001b[0m\u001b[1;39m,\r\n",
      "    \u001b[0m\u001b[34;1m\"start_offset\"\u001b[0m\u001b[1;39m: \u001b[0m\u001b[0;39m4790\u001b[0m\u001b[1;39m,\r\n",
      "    \u001b[0m\u001b[34;1m\"surface\"\u001b[0m\u001b[1;39m: \u001b[0m\u001b[0;32m\"Aristophanes,\"\u001b[0m\u001b[1;39m\r\n",
      "  \u001b[1;39m}\u001b[0m\u001b[1;39m,\r\n",
      "  \u001b[0m\u001b[34;1m\"8\"\u001b[0m\u001b[1;39m: \u001b[0m\u001b[1;39m{\r\n",
      "    \u001b[0m\u001b[34;1m\"entity_type\"\u001b[0m\u001b[1;39m: \u001b[0m\u001b[0;32m\"REFSCOPE\"\u001b[0m\u001b[1;39m,\r\n",
      "    \u001b[0m\u001b[34;1m\"norm_scope\"\u001b[0m\u001b[1;39m: \u001b[0m\u001b[0;32m\"12-13\"\u001b[0m\u001b[1;39m,\r\n",
      "    \u001b[0m\u001b[34;1m\"start_offset\"\u001b[0m\u001b[1;39m: \u001b[0m\u001b[0;39m3745\u001b[0m\u001b[1;39m,\r\n",
      "    \u001b[0m\u001b[34;1m\"surface\"\u001b[0m\u001b[1;39m: \u001b[0m\u001b[0;32m\"12-13,\"\u001b[0m\u001b[1;39m,\r\n",
      "    \u001b[0m\u001b[34;1m\"end_offset\"\u001b[0m\u001b[1;39m: \u001b[0m\u001b[0;39m3751\u001b[0m\u001b[1;39m,\r\n",
      "    \u001b[0m\u001b[34;1m\"id\"\u001b[0m\u001b[1;39m: \u001b[0m\u001b[0;32m\"8\"\u001b[0m\u001b[1;39m\r\n",
      "  \u001b[1;39m}\u001b[0m\u001b[1;39m\r\n",
      "\u001b[1;39m}\u001b[0m\r\n"
     ]
    }
   ],
   "source": [
    "cat data/json/bmcr_2013-01-10.json | jq \".entities\""
   ]
  },
  {
   "cell_type": "markdown",
   "metadata": {},
   "source": [
    "## Relation extraction"
   ]
  },
  {
   "cell_type": "code",
   "execution_count": 9,
   "metadata": {},
   "outputs": [
    {
     "name": "stdout",
     "output_type": "stream",
     "text": [
      "No handlers could be found for logger \"citation_extractor.crfpp_wrap\"\n",
      "Tue, 22 Jun 2021 16:58:26 - citation_extractor.Utils.IO - [INFO] Logger initialised\n",
      "Tue, 22 Jun 2021 16:58:26 - citation_extractor.Utils.IO - [INFO] Current working directory: /media/romanell/4T/matteo/ClassicsCitations/IndexLocorum101/data\n",
      "Tue, 22 Jun 2021 16:58:26 - citation_extractor.Utils.IO - [INFO] There are 2 docs to process\n",
      "Tue, 22 Jun 2021 16:58:26 - citation_extractor.Utils.IO - [INFO] Following documents will be processed: [u'bmcr_2013-01-10.json', u'capra2015_introduction.json']\n",
      "Tue, 22 Jun 2021 16:58:26 - citation_extractor.Utils.IO - [INFO] Document bmcr_2013-01-10.json contains 14 entities.\n",
      "Tue, 22 Jun 2021 16:58:26 - citation_extractor.Utils.IO - [INFO] Document bmcr_2013-01-10.json (14 entities, 4 relations) written to /media/romanell/4T/matteo/ClassicsCitations/IndexLocorum101/data/json/bmcr_2013-01-10.json\n",
      "Tue, 22 Jun 2021 16:58:26 - citation_extractor.Utils.IO - [INFO] Document capra2015_introduction.json contains 300 entities.\n",
      "Tue, 22 Jun 2021 16:58:27 - citation_extractor.Utils.IO - [INFO] Document capra2015_introduction.json (300 entities, 55 relations) written to /media/romanell/4T/matteo/ClassicsCitations/IndexLocorum101/data/json/capra2015_introduction.json\n"
     ]
    }
   ],
   "source": [
    "!citedloci-pipeline do relex --config=config/project.ini"
   ]
  },
  {
   "cell_type": "code",
   "execution_count": 18,
   "metadata": {},
   "outputs": [
    {
     "name": "stdout",
     "output_type": "stream",
     "text": [
      "\u001b[1;39m[\r\n",
      "  \u001b[0;32m\"disambiguations\"\u001b[0m\u001b[1;39m,\r\n",
      "  \u001b[0;32m\"doc_id\"\u001b[0m\u001b[1;39m,\r\n",
      "  \u001b[0;32m\"doc_name\"\u001b[0m\u001b[1;39m,\r\n",
      "  \u001b[0;32m\"entities\"\u001b[0m\u001b[1;39m,\r\n",
      "  \u001b[0;32m\"linebreaks\"\u001b[0m\u001b[1;39m,\r\n",
      "  \u001b[0;32m\"relations\"\u001b[0m\u001b[1;39m,\r\n",
      "  \u001b[0;32m\"text\"\u001b[0m\u001b[1;39m,\r\n",
      "  \u001b[0;32m\"tokens\"\u001b[0m\u001b[1;39m\r\n",
      "\u001b[1;39m]\u001b[0m\r\n"
     ]
    }
   ],
   "source": [
    "cat data/json/bmcr_2013-01-10.json | jq \".|keys\""
   ]
  },
  {
   "cell_type": "code",
   "execution_count": 20,
   "metadata": {},
   "outputs": [
    {
     "name": "stdout",
     "output_type": "stream",
     "text": [
      "\u001b[1;39m{\r\n",
      "  \u001b[0m\u001b[34;1m\"R4\"\u001b[0m\u001b[1;39m: \u001b[0m\u001b[1;39m[\r\n",
      "    \u001b[0;32m\"13\"\u001b[0m\u001b[1;39m,\r\n",
      "    \u001b[0;32m\"14\"\u001b[0m\u001b[1;39m\r\n",
      "  \u001b[1;39m]\u001b[0m\u001b[1;39m,\r\n",
      "  \u001b[0m\u001b[34;1m\"R1\"\u001b[0m\u001b[1;39m: \u001b[0m\u001b[1;39m[\r\n",
      "    \u001b[0;32m\"3\"\u001b[0m\u001b[1;39m,\r\n",
      "    \u001b[0;32m\"4\"\u001b[0m\u001b[1;39m\r\n",
      "  \u001b[1;39m]\u001b[0m\u001b[1;39m,\r\n",
      "  \u001b[0m\u001b[34;1m\"R2\"\u001b[0m\u001b[1;39m: \u001b[0m\u001b[1;39m[\r\n",
      "    \u001b[0;32m\"5\"\u001b[0m\u001b[1;39m,\r\n",
      "    \u001b[0;32m\"6\"\u001b[0m\u001b[1;39m\r\n",
      "  \u001b[1;39m]\u001b[0m\u001b[1;39m,\r\n",
      "  \u001b[0m\u001b[34;1m\"R3\"\u001b[0m\u001b[1;39m: \u001b[0m\u001b[1;39m[\r\n",
      "    \u001b[0;32m\"7\"\u001b[0m\u001b[1;39m,\r\n",
      "    \u001b[0;32m\"8\"\u001b[0m\u001b[1;39m\r\n",
      "  \u001b[1;39m]\u001b[0m\u001b[1;39m\r\n",
      "\u001b[1;39m}\u001b[0m\r\n"
     ]
    }
   ],
   "source": [
    "cat data/json/bmcr_2013-01-10.json | jq \".|.relations\""
   ]
  },
  {
   "cell_type": "markdown",
   "metadata": {},
   "source": [
    "## Named entity linking"
   ]
  },
  {
   "cell_type": "code",
   "execution_count": 1,
   "metadata": {},
   "outputs": [
    {
     "name": "stdout",
     "output_type": "stream",
     "text": [
      "No handlers could be found for logger \"citation_extractor.crfpp_wrap\"\n",
      "Tue, 22 Jun 2021 21:33:13 - citation_extractor.Utils.IO - [INFO] Logger initialised\n",
      "Tue, 22 Jun 2021 21:33:13 - citation_extractor.Utils.IO - [INFO] Current working directory: /media/romanell/4T/matteo/ClassicsCitations/IndexLocorum101/data\n",
      "Tue, 22 Jun 2021 21:33:14 - citation_extractor.Utils.IO - [INFO] CitationMatcher loaded from pickle /media/romanell/4T/matteo/ClassicsCitations/IndexLocorum101/pickles/matcher.pkl\n",
      "Tue, 22 Jun 2021 21:33:14 - citation_extractor.Utils.IO - [INFO] There are 1 docs to process\n",
      "Tue, 22 Jun 2021 21:33:14 - citation_extractor.Utils.IO - [INFO] Following documents will be processed: [u'bmcr_2013-01-10.json']\n",
      "(CITATION (REF (SCOPE_S (LEVEL 3) (LEVEL 38) (LEVEL 5))))\n",
      "Tue, 22 Jun 2021 21:33:16 - citation_extractor.Utils.IO - [INFO] 3.38.5). => 3.38.5\n",
      "(CITATION (REF (SCOPE_S (LEVEL 1) (LEVEL 101) (LEVEL 2))))\n",
      "Tue, 22 Jun 2021 21:33:16 - citation_extractor.Utils.IO - [INFO] 1.101.2. => 1.101.2\n",
      "(CITATION (REF (SCOPE_S (LEVEL 3) (LEVEL 3))))\n",
      "Tue, 22 Jun 2021 21:33:16 - citation_extractor.Utils.IO - [INFO] 3.3) => 3.3\n",
      "(CITATION (REF (SCOPE_R (START (LEVEL 12)) (END (LEVEL 13)))))\n",
      "Tue, 22 Jun 2021 21:33:16 - citation_extractor.Utils.IO - [INFO] 12-13, => 12-13\n",
      "Tue, 22 Jun 2021 21:33:16 - citation_extractor.Utils.IO - [INFO] Document bmcr_2013-01-10.json: total entities 14; disambiguated: 3\n",
      "Tue, 22 Jun 2021 21:33:16 - citation_extractor.Utils.IO - [INFO] Document bmcr_2013-01-10.json written to /media/romanell/4T/matteo/ClassicsCitations/IndexLocorum101/data/json/bmcr_2013-01-10.json\n"
     ]
    }
   ],
   "source": [
    "!citedloci-pipeline do ned --config=config/project.ini"
   ]
  },
  {
   "cell_type": "code",
   "execution_count": 2,
   "metadata": {
    "collapsed": true
   },
   "outputs": [
    {
     "name": "stdout",
     "output_type": "stream",
     "text": [
      "\u001b[1;39m{\r\n",
      "  \u001b[0m\u001b[34;1m\"11\"\u001b[0m\u001b[1;39m: \u001b[0m\u001b[1;39m{\r\n",
      "    \u001b[0m\u001b[34;1m\"end_offset\"\u001b[0m\u001b[1;39m: \u001b[0m\u001b[0;39m8562\u001b[0m\u001b[1;39m,\r\n",
      "    \u001b[0m\u001b[34;1m\"entity_type\"\u001b[0m\u001b[1;39m: \u001b[0m\u001b[0;32m\"AAUTHOR\"\u001b[0m\u001b[1;39m,\r\n",
      "    \u001b[0m\u001b[34;1m\"id\"\u001b[0m\u001b[1;39m: \u001b[0m\u001b[0;32m\"11\"\u001b[0m\u001b[1;39m,\r\n",
      "    \u001b[0m\u001b[34;1m\"start_offset\"\u001b[0m\u001b[1;39m: \u001b[0m\u001b[0;39m8553\u001b[0m\u001b[1;39m,\r\n",
      "    \u001b[0m\u001b[34;1m\"surface\"\u001b[0m\u001b[1;39m: \u001b[0m\u001b[0;32m\"Thucydide\"\u001b[0m\u001b[1;39m\r\n",
      "  \u001b[1;39m}\u001b[0m\u001b[1;39m,\r\n",
      "  \u001b[0m\u001b[34;1m\"10\"\u001b[0m\u001b[1;39m: \u001b[0m\u001b[1;39m{\r\n",
      "    \u001b[0m\u001b[34;1m\"end_offset\"\u001b[0m\u001b[1;39m: \u001b[0m\u001b[0;39m8427\u001b[0m\u001b[1;39m,\r\n",
      "    \u001b[0m\u001b[34;1m\"entity_type\"\u001b[0m\u001b[1;39m: \u001b[0m\u001b[0;32m\"AAUTHOR\"\u001b[0m\u001b[1;39m,\r\n",
      "    \u001b[0m\u001b[34;1m\"id\"\u001b[0m\u001b[1;39m: \u001b[0m\u001b[0;32m\"10\"\u001b[0m\u001b[1;39m,\r\n",
      "    \u001b[0m\u001b[34;1m\"start_offset\"\u001b[0m\u001b[1;39m: \u001b[0m\u001b[0;39m8416\u001b[0m\u001b[1;39m,\r\n",
      "    \u001b[0m\u001b[34;1m\"surface\"\u001b[0m\u001b[1;39m: \u001b[0m\u001b[0;32m\"Thucydides,\"\u001b[0m\u001b[1;39m\r\n",
      "  \u001b[1;39m}\u001b[0m\u001b[1;39m,\r\n",
      "  \u001b[0m\u001b[34;1m\"13\"\u001b[0m\u001b[1;39m: \u001b[0m\u001b[1;39m{\r\n",
      "    \u001b[0m\u001b[34;1m\"entity_type\"\u001b[0m\u001b[1;39m: \u001b[0m\u001b[0;32m\"REFAUWORK\"\u001b[0m\u001b[1;39m,\r\n",
      "    \u001b[0m\u001b[34;1m\"urn\"\u001b[0m\u001b[1;39m: \u001b[0m\u001b[0;32m\"urn:cts:greekLit:tlg0016.tlg001\"\u001b[0m\u001b[1;39m,\r\n",
      "    \u001b[0m\u001b[34;1m\"start_offset\"\u001b[0m\u001b[1;39m: \u001b[0m\u001b[0;39m9859\u001b[0m\u001b[1;39m,\r\n",
      "    \u001b[0m\u001b[34;1m\"work_uri\"\u001b[0m\u001b[1;39m: \u001b[0m\u001b[0;32m\"http://purl.org/hucit/kb/works/2691\"\u001b[0m\u001b[1;39m,\r\n",
      "    \u001b[0m\u001b[34;1m\"surface\"\u001b[0m\u001b[1;39m: \u001b[0m\u001b[0;32m\"(Hdt.\"\u001b[0m\u001b[1;39m,\r\n",
      "    \u001b[0m\u001b[34;1m\"end_offset\"\u001b[0m\u001b[1;39m: \u001b[0m\u001b[0;39m9864\u001b[0m\u001b[1;39m,\r\n",
      "    \u001b[0m\u001b[34;1m\"id\"\u001b[0m\u001b[1;39m: \u001b[0m\u001b[0;32m\"13\"\u001b[0m\u001b[1;39m\r\n",
      "  \u001b[1;39m}\u001b[0m\u001b[1;39m,\r\n",
      "  \u001b[0m\u001b[34;1m\"12\"\u001b[0m\u001b[1;39m: \u001b[0m\u001b[1;39m{\r\n",
      "    \u001b[0m\u001b[34;1m\"end_offset\"\u001b[0m\u001b[1;39m: \u001b[0m\u001b[0;39m9801\u001b[0m\u001b[1;39m,\r\n",
      "    \u001b[0m\u001b[34;1m\"entity_type\"\u001b[0m\u001b[1;39m: \u001b[0m\u001b[0;32m\"AAUTHOR\"\u001b[0m\u001b[1;39m,\r\n",
      "    \u001b[0m\u001b[34;1m\"id\"\u001b[0m\u001b[1;39m: \u001b[0m\u001b[0;32m\"12\"\u001b[0m\u001b[1;39m,\r\n",
      "    \u001b[0m\u001b[34;1m\"start_offset\"\u001b[0m\u001b[1;39m: \u001b[0m\u001b[0;39m9792\u001b[0m\u001b[1;39m,\r\n",
      "    \u001b[0m\u001b[34;1m\"surface\"\u001b[0m\u001b[1;39m: \u001b[0m\u001b[0;32m\"Herodotus\"\u001b[0m\u001b[1;39m\r\n",
      "  \u001b[1;39m}\u001b[0m\u001b[1;39m,\r\n",
      "  \u001b[0m\u001b[34;1m\"14\"\u001b[0m\u001b[1;39m: \u001b[0m\u001b[1;39m{\r\n",
      "    \u001b[0m\u001b[34;1m\"entity_type\"\u001b[0m\u001b[1;39m: \u001b[0m\u001b[0;32m\"REFSCOPE\"\u001b[0m\u001b[1;39m,\r\n",
      "    \u001b[0m\u001b[34;1m\"norm_scope\"\u001b[0m\u001b[1;39m: \u001b[0m\u001b[0;32m\"3.38.5\"\u001b[0m\u001b[1;39m,\r\n",
      "    \u001b[0m\u001b[34;1m\"start_offset\"\u001b[0m\u001b[1;39m: \u001b[0m\u001b[0;39m9865\u001b[0m\u001b[1;39m,\r\n",
      "    \u001b[0m\u001b[34;1m\"surface\"\u001b[0m\u001b[1;39m: \u001b[0m\u001b[0;32m\"3.38.5).\"\u001b[0m\u001b[1;39m,\r\n",
      "    \u001b[0m\u001b[34;1m\"end_offset\"\u001b[0m\u001b[1;39m: \u001b[0m\u001b[0;39m9873\u001b[0m\u001b[1;39m,\r\n",
      "    \u001b[0m\u001b[34;1m\"id\"\u001b[0m\u001b[1;39m: \u001b[0m\u001b[0;32m\"14\"\u001b[0m\u001b[1;39m\r\n",
      "  \u001b[1;39m}\u001b[0m\u001b[1;39m,\r\n",
      "  \u001b[0m\u001b[34;1m\"1\"\u001b[0m\u001b[1;39m: \u001b[0m\u001b[1;39m{\r\n",
      "    \u001b[0m\u001b[34;1m\"end_offset\"\u001b[0m\u001b[1;39m: \u001b[0m\u001b[0;39m704\u001b[0m\u001b[1;39m,\r\n",
      "    \u001b[0m\u001b[34;1m\"entity_type\"\u001b[0m\u001b[1;39m: \u001b[0m\u001b[0;32m\"AAUTHOR\"\u001b[0m\u001b[1;39m,\r\n",
      "    \u001b[0m\u001b[34;1m\"id\"\u001b[0m\u001b[1;39m: \u001b[0m\u001b[0;32m\"1\"\u001b[0m\u001b[1;39m,\r\n",
      "    \u001b[0m\u001b[34;1m\"start_offset\"\u001b[0m\u001b[1;39m: \u001b[0m\u001b[0;39m694\u001b[0m\u001b[1;39m,\r\n",
      "    \u001b[0m\u001b[34;1m\"surface\"\u001b[0m\u001b[1;39m: \u001b[0m\u001b[0;32m\"Herodotus,\"\u001b[0m\u001b[1;39m\r\n",
      "  \u001b[1;39m}\u001b[0m\u001b[1;39m,\r\n",
      "  \u001b[0m\u001b[34;1m\"3\"\u001b[0m\u001b[1;39m: \u001b[0m\u001b[1;39m{\r\n",
      "    \u001b[0m\u001b[34;1m\"entity_type\"\u001b[0m\u001b[1;39m: \u001b[0m\u001b[0;32m\"REFAUWORK\"\u001b[0m\u001b[1;39m,\r\n",
      "    \u001b[0m\u001b[34;1m\"urn\"\u001b[0m\u001b[1;39m: \u001b[0m\u001b[0;32m\"urn:cts:greekLit:tlg0003.tlg001\"\u001b[0m\u001b[1;39m,\r\n",
      "    \u001b[0m\u001b[34;1m\"start_offset\"\u001b[0m\u001b[1;39m: \u001b[0m\u001b[0;39m1324\u001b[0m\u001b[1;39m,\r\n",
      "    \u001b[0m\u001b[34;1m\"work_uri\"\u001b[0m\u001b[1;39m: \u001b[0m\u001b[0;32m\"http://purl.org/hucit/kb/works/3998\"\u001b[0m\u001b[1;39m,\r\n",
      "    \u001b[0m\u001b[34;1m\"surface\"\u001b[0m\u001b[1;39m: \u001b[0m\u001b[0;32m\"(Thuc.\"\u001b[0m\u001b[1;39m,\r\n",
      "    \u001b[0m\u001b[34;1m\"end_offset\"\u001b[0m\u001b[1;39m: \u001b[0m\u001b[0;39m1330\u001b[0m\u001b[1;39m,\r\n",
      "    \u001b[0m\u001b[34;1m\"id\"\u001b[0m\u001b[1;39m: \u001b[0m\u001b[0;32m\"3\"\u001b[0m\u001b[1;39m\r\n",
      "  \u001b[1;39m}\u001b[0m\u001b[1;39m,\r\n",
      "  \u001b[0m\u001b[34;1m\"2\"\u001b[0m\u001b[1;39m: \u001b[0m\u001b[1;39m{\r\n",
      "    \u001b[0m\u001b[34;1m\"end_offset\"\u001b[0m\u001b[1;39m: \u001b[0m\u001b[0;39m715\u001b[0m\u001b[1;39m,\r\n",
      "    \u001b[0m\u001b[34;1m\"entity_type\"\u001b[0m\u001b[1;39m: \u001b[0m\u001b[0;32m\"AAUTHOR\"\u001b[0m\u001b[1;39m,\r\n",
      "    \u001b[0m\u001b[34;1m\"id\"\u001b[0m\u001b[1;39m: \u001b[0m\u001b[0;32m\"2\"\u001b[0m\u001b[1;39m,\r\n",
      "    \u001b[0m\u001b[34;1m\"start_offset\"\u001b[0m\u001b[1;39m: \u001b[0m\u001b[0;39m705\u001b[0m\u001b[1;39m,\r\n",
      "    \u001b[0m\u001b[34;1m\"surface\"\u001b[0m\u001b[1;39m: \u001b[0m\u001b[0;32m\"Thucydides\"\u001b[0m\u001b[1;39m\r\n",
      "  \u001b[1;39m}\u001b[0m\u001b[1;39m,\r\n",
      "  \u001b[0m\u001b[34;1m\"5\"\u001b[0m\u001b[1;39m: \u001b[0m\u001b[1;39m{\r\n",
      "    \u001b[0m\u001b[34;1m\"entity_type\"\u001b[0m\u001b[1;39m: \u001b[0m\u001b[0;32m\"REFAUWORK\"\u001b[0m\u001b[1;39m,\r\n",
      "    \u001b[0m\u001b[34;1m\"urn\"\u001b[0m\u001b[1;39m: \u001b[0m\u001b[0;32m\"urn:cts:greekLit:tlg0032.tlg001\"\u001b[0m\u001b[1;39m,\r\n",
      "    \u001b[0m\u001b[34;1m\"start_offset\"\u001b[0m\u001b[1;39m: \u001b[0m\u001b[0;39m1344\u001b[0m\u001b[1;39m,\r\n",
      "    \u001b[0m\u001b[34;1m\"work_uri\"\u001b[0m\u001b[1;39m: \u001b[0m\u001b[0;32m\"http://purl.org/hucit/kb/works/4025\"\u001b[0m\u001b[1;39m,\r\n",
      "    \u001b[0m\u001b[34;1m\"surface\"\u001b[0m\u001b[1;39m: \u001b[0m\u001b[0;32m\"Xen. Hell.\"\u001b[0m\u001b[1;39m,\r\n",
      "    \u001b[0m\u001b[34;1m\"end_offset\"\u001b[0m\u001b[1;39m: \u001b[0m\u001b[0;39m1354\u001b[0m\u001b[1;39m,\r\n",
      "    \u001b[0m\u001b[34;1m\"id\"\u001b[0m\u001b[1;39m: \u001b[0m\u001b[0;32m\"5\"\u001b[0m\u001b[1;39m\r\n",
      "  \u001b[1;39m}\u001b[0m\u001b[1;39m,\r\n",
      "  \u001b[0m\u001b[34;1m\"4\"\u001b[0m\u001b[1;39m: \u001b[0m\u001b[1;39m{\r\n",
      "    \u001b[0m\u001b[34;1m\"entity_type\"\u001b[0m\u001b[1;39m: \u001b[0m\u001b[0;32m\"REFSCOPE\"\u001b[0m\u001b[1;39m,\r\n",
      "    \u001b[0m\u001b[34;1m\"norm_scope\"\u001b[0m\u001b[1;39m: \u001b[0m\u001b[0;32m\"1.101.2\"\u001b[0m\u001b[1;39m,\r\n",
      "    \u001b[0m\u001b[34;1m\"start_offset\"\u001b[0m\u001b[1;39m: \u001b[0m\u001b[0;39m1331\u001b[0m\u001b[1;39m,\r\n",
      "    \u001b[0m\u001b[34;1m\"surface\"\u001b[0m\u001b[1;39m: \u001b[0m\u001b[0;32m\"1.101.2.\"\u001b[0m\u001b[1;39m,\r\n",
      "    \u001b[0m\u001b[34;1m\"end_offset\"\u001b[0m\u001b[1;39m: \u001b[0m\u001b[0;39m1339\u001b[0m\u001b[1;39m,\r\n",
      "    \u001b[0m\u001b[34;1m\"id\"\u001b[0m\u001b[1;39m: \u001b[0m\u001b[0;32m\"4\"\u001b[0m\u001b[1;39m\r\n",
      "  \u001b[1;39m}\u001b[0m\u001b[1;39m,\r\n",
      "  \u001b[0m\u001b[34;1m\"7\"\u001b[0m\u001b[1;39m: \u001b[0m\u001b[1;39m{\r\n",
      "    \u001b[0m\u001b[34;1m\"entity_type\"\u001b[0m\u001b[1;39m: \u001b[0m\u001b[0;32m\"REFAUWORK\"\u001b[0m\u001b[1;39m,\r\n",
      "    \u001b[0m\u001b[34;1m\"urn\"\u001b[0m\u001b[1;39m: \u001b[0m\u001b[0;32m\"urn:cts:GreekLatinLit:NIL\"\u001b[0m\u001b[1;39m,\r\n",
      "    \u001b[0m\u001b[34;1m\"start_offset\"\u001b[0m\u001b[1;39m: \u001b[0m\u001b[0;39m3740\u001b[0m\u001b[1;39m,\r\n",
      "    \u001b[0m\u001b[34;1m\"surface\"\u001b[0m\u001b[1;39m: \u001b[0m\u001b[0;32m\"Dike\"\u001b[0m\u001b[1;39m,\r\n",
      "    \u001b[0m\u001b[34;1m\"end_offset\"\u001b[0m\u001b[1;39m: \u001b[0m\u001b[0;39m3744\u001b[0m\u001b[1;39m,\r\n",
      "    \u001b[0m\u001b[34;1m\"id\"\u001b[0m\u001b[1;39m: \u001b[0m\u001b[0;32m\"7\"\u001b[0m\u001b[1;39m\r\n",
      "  \u001b[1;39m}\u001b[0m\u001b[1;39m,\r\n",
      "  \u001b[0m\u001b[34;1m\"6\"\u001b[0m\u001b[1;39m: \u001b[0m\u001b[1;39m{\r\n",
      "    \u001b[0m\u001b[34;1m\"entity_type\"\u001b[0m\u001b[1;39m: \u001b[0m\u001b[0;32m\"REFSCOPE\"\u001b[0m\u001b[1;39m,\r\n",
      "    \u001b[0m\u001b[34;1m\"norm_scope\"\u001b[0m\u001b[1;39m: \u001b[0m\u001b[0;32m\"3.3\"\u001b[0m\u001b[1;39m,\r\n",
      "    \u001b[0m\u001b[34;1m\"start_offset\"\u001b[0m\u001b[1;39m: \u001b[0m\u001b[0;39m1355\u001b[0m\u001b[1;39m,\r\n",
      "    \u001b[0m\u001b[34;1m\"surface\"\u001b[0m\u001b[1;39m: \u001b[0m\u001b[0;32m\"3.3)\"\u001b[0m\u001b[1;39m,\r\n",
      "    \u001b[0m\u001b[34;1m\"end_offset\"\u001b[0m\u001b[1;39m: \u001b[0m\u001b[0;39m1359\u001b[0m\u001b[1;39m,\r\n",
      "    \u001b[0m\u001b[34;1m\"id\"\u001b[0m\u001b[1;39m: \u001b[0m\u001b[0;32m\"6\"\u001b[0m\u001b[1;39m\r\n",
      "  \u001b[1;39m}\u001b[0m\u001b[1;39m,\r\n",
      "  \u001b[0m\u001b[34;1m\"9\"\u001b[0m\u001b[1;39m: \u001b[0m\u001b[1;39m{\r\n",
      "    \u001b[0m\u001b[34;1m\"end_offset\"\u001b[0m\u001b[1;39m: \u001b[0m\u001b[0;39m4803\u001b[0m\u001b[1;39m,\r\n",
      "    \u001b[0m\u001b[34;1m\"entity_type\"\u001b[0m\u001b[1;39m: \u001b[0m\u001b[0;32m\"AAUTHOR\"\u001b[0m\u001b[1;39m,\r\n",
      "    \u001b[0m\u001b[34;1m\"id\"\u001b[0m\u001b[1;39m: \u001b[0m\u001b[0;32m\"9\"\u001b[0m\u001b[1;39m,\r\n",
      "    \u001b[0m\u001b[34;1m\"start_offset\"\u001b[0m\u001b[1;39m: \u001b[0m\u001b[0;39m4790\u001b[0m\u001b[1;39m,\r\n",
      "    \u001b[0m\u001b[34;1m\"surface\"\u001b[0m\u001b[1;39m: \u001b[0m\u001b[0;32m\"Aristophanes,\"\u001b[0m\u001b[1;39m\r\n",
      "  \u001b[1;39m}\u001b[0m\u001b[1;39m,\r\n",
      "  \u001b[0m\u001b[34;1m\"8\"\u001b[0m\u001b[1;39m: \u001b[0m\u001b[1;39m{\r\n",
      "    \u001b[0m\u001b[34;1m\"entity_type\"\u001b[0m\u001b[1;39m: \u001b[0m\u001b[0;32m\"REFSCOPE\"\u001b[0m\u001b[1;39m,\r\n",
      "    \u001b[0m\u001b[34;1m\"norm_scope\"\u001b[0m\u001b[1;39m: \u001b[0m\u001b[0;32m\"12-13\"\u001b[0m\u001b[1;39m,\r\n",
      "    \u001b[0m\u001b[34;1m\"start_offset\"\u001b[0m\u001b[1;39m: \u001b[0m\u001b[0;39m3745\u001b[0m\u001b[1;39m,\r\n",
      "    \u001b[0m\u001b[34;1m\"surface\"\u001b[0m\u001b[1;39m: \u001b[0m\u001b[0;32m\"12-13,\"\u001b[0m\u001b[1;39m,\r\n",
      "    \u001b[0m\u001b[34;1m\"end_offset\"\u001b[0m\u001b[1;39m: \u001b[0m\u001b[0;39m3751\u001b[0m\u001b[1;39m,\r\n",
      "    \u001b[0m\u001b[34;1m\"id\"\u001b[0m\u001b[1;39m: \u001b[0m\u001b[0;32m\"8\"\u001b[0m\u001b[1;39m\r\n",
      "  \u001b[1;39m}\u001b[0m\u001b[1;39m\r\n",
      "\u001b[1;39m}\u001b[0m\r\n"
     ]
    }
   ],
   "source": [
    "cat data/json/bmcr_2013-01-10.json | jq \".|.entities\""
   ]
  },
  {
   "cell_type": "markdown",
   "metadata": {},
   "source": [
    "# Read extracted citations"
   ]
  },
  {
   "cell_type": "code",
   "execution_count": 60,
   "metadata": {},
   "outputs": [],
   "source": [
    "import pandas as pd"
   ]
  },
  {
   "cell_type": "code",
   "execution_count": 58,
   "metadata": {
    "code_folding": [
     0
    ]
   },
   "outputs": [],
   "source": [
    "def read_json(doc_dir, doc_id):\n",
    "    \n",
    "    inp_file_path = os.path.join(doc_dir, doc_id)\n",
    "    \n",
    "    records = []\n",
    "    \n",
    "    # read input file\n",
    "    with codecs.open(inp_file_path, 'r', 'utf-8') as inpfile:\n",
    "        doc = json.load(inpfile)\n",
    "        \n",
    "    for relation in doc['relations']:\n",
    "        arg1_id, arg2_id = doc['relations'][relation]\n",
    "        arg1 = doc['entities'][arg1_id]\n",
    "        arg2 = doc['entities'][arg2_id]\n",
    "        \n",
    "        if arg1['urn'] != 'urn:cts:GreekLatinLit:NIL':\n",
    "            passage_urn = arg1['urn'] + \":\" + arg2['norm_scope']\n",
    "        else:\n",
    "            passage_urn = None\n",
    "        \n",
    "        records.append({\n",
    "            \"docid\": doc_id,\n",
    "            \"surface\": arg1['surface'] + \" \" + arg2['surface'],\n",
    "            \"passage_urn\": passage_urn,\n",
    "            \"work_urn\": arg1['urn'],\n",
    "            \"work_uri\": arg1['work_uri'] if 'work_uri' in arg1 else None\n",
    "        })\n",
    "        \n",
    "    return record"
   ]
  },
  {
   "cell_type": "code",
   "execution_count": 59,
   "metadata": {},
   "outputs": [],
   "source": [
    "data = read_json('data/json/', 'bmcr_2013-01-10.json')"
   ]
  },
  {
   "cell_type": "code",
   "execution_count": 61,
   "metadata": {},
   "outputs": [],
   "source": [
    "df = pd.DataFrame(data).set_index('docid')"
   ]
  },
  {
   "cell_type": "code",
   "execution_count": 62,
   "metadata": {},
   "outputs": [
    {
     "data": {
      "text/html": [
       "<div>\n",
       "<style scoped>\n",
       "    .dataframe tbody tr th:only-of-type {\n",
       "        vertical-align: middle;\n",
       "    }\n",
       "\n",
       "    .dataframe tbody tr th {\n",
       "        vertical-align: top;\n",
       "    }\n",
       "\n",
       "    .dataframe thead th {\n",
       "        text-align: right;\n",
       "    }\n",
       "</style>\n",
       "<table border=\"1\" class=\"dataframe\">\n",
       "  <thead>\n",
       "    <tr style=\"text-align: right;\">\n",
       "      <th></th>\n",
       "      <th>passage_urn</th>\n",
       "      <th>surface</th>\n",
       "      <th>work_uri</th>\n",
       "      <th>work_urn</th>\n",
       "    </tr>\n",
       "    <tr>\n",
       "      <th>docid</th>\n",
       "      <th></th>\n",
       "      <th></th>\n",
       "      <th></th>\n",
       "      <th></th>\n",
       "    </tr>\n",
       "  </thead>\n",
       "  <tbody>\n",
       "    <tr>\n",
       "      <th>bmcr_2013-01-10.json</th>\n",
       "      <td>urn:cts:greekLit:tlg0016.tlg001:3.38.5</td>\n",
       "      <td>(Hdt. 3.38.5).</td>\n",
       "      <td>http://purl.org/hucit/kb/works/2691</td>\n",
       "      <td>urn:cts:greekLit:tlg0016.tlg001</td>\n",
       "    </tr>\n",
       "    <tr>\n",
       "      <th>bmcr_2013-01-10.json</th>\n",
       "      <td>urn:cts:greekLit:tlg0003.tlg001:1.101.2</td>\n",
       "      <td>(Thuc. 1.101.2.</td>\n",
       "      <td>http://purl.org/hucit/kb/works/3998</td>\n",
       "      <td>urn:cts:greekLit:tlg0003.tlg001</td>\n",
       "    </tr>\n",
       "    <tr>\n",
       "      <th>bmcr_2013-01-10.json</th>\n",
       "      <td>urn:cts:greekLit:tlg0032.tlg001:3.3</td>\n",
       "      <td>Xen. Hell. 3.3)</td>\n",
       "      <td>http://purl.org/hucit/kb/works/4025</td>\n",
       "      <td>urn:cts:greekLit:tlg0032.tlg001</td>\n",
       "    </tr>\n",
       "    <tr>\n",
       "      <th>bmcr_2013-01-10.json</th>\n",
       "      <td>None</td>\n",
       "      <td>Dike 12-13,</td>\n",
       "      <td>None</td>\n",
       "      <td>urn:cts:GreekLatinLit:NIL</td>\n",
       "    </tr>\n",
       "  </tbody>\n",
       "</table>\n",
       "</div>"
      ],
      "text/plain": [
       "                                                  passage_urn  \\\n",
       "docid                                                           \n",
       "bmcr_2013-01-10.json   urn:cts:greekLit:tlg0016.tlg001:3.38.5   \n",
       "bmcr_2013-01-10.json  urn:cts:greekLit:tlg0003.tlg001:1.101.2   \n",
       "bmcr_2013-01-10.json      urn:cts:greekLit:tlg0032.tlg001:3.3   \n",
       "bmcr_2013-01-10.json                                     None   \n",
       "\n",
       "                              surface                             work_uri  \\\n",
       "docid                                                                        \n",
       "bmcr_2013-01-10.json   (Hdt. 3.38.5).  http://purl.org/hucit/kb/works/2691   \n",
       "bmcr_2013-01-10.json  (Thuc. 1.101.2.  http://purl.org/hucit/kb/works/3998   \n",
       "bmcr_2013-01-10.json  Xen. Hell. 3.3)  http://purl.org/hucit/kb/works/4025   \n",
       "bmcr_2013-01-10.json      Dike 12-13,                                 None   \n",
       "\n",
       "                                             work_urn  \n",
       "docid                                                  \n",
       "bmcr_2013-01-10.json  urn:cts:greekLit:tlg0016.tlg001  \n",
       "bmcr_2013-01-10.json  urn:cts:greekLit:tlg0003.tlg001  \n",
       "bmcr_2013-01-10.json  urn:cts:greekLit:tlg0032.tlg001  \n",
       "bmcr_2013-01-10.json        urn:cts:GreekLatinLit:NIL  "
      ]
     },
     "execution_count": 62,
     "metadata": {},
     "output_type": "execute_result"
    }
   ],
   "source": [
    "df"
   ]
  }
 ],
 "metadata": {
  "kernelspec": {
   "display_name": "Python 2",
   "language": "python",
   "name": "python2"
  },
  "language_info": {
   "codemirror_mode": {
    "name": "ipython",
    "version": 2
   },
   "file_extension": ".py",
   "mimetype": "text/x-python",
   "name": "python",
   "nbconvert_exporter": "python",
   "pygments_lexer": "ipython2",
   "version": "2.7.13"
  },
  "toc": {
   "base_numbering": 1,
   "nav_menu": {},
   "number_sections": true,
   "sideBar": true,
   "skip_h1_title": false,
   "title_cell": "Table of Contents",
   "title_sidebar": "Contents",
   "toc_cell": false,
   "toc_position": {},
   "toc_section_display": true,
   "toc_window_display": true
  }
 },
 "nbformat": 4,
 "nbformat_minor": 2
}
