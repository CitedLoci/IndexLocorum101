{
 "cells": [
  {
   "cell_type": "markdown",
   "metadata": {},
   "source": [
    "# *CitedLoci* pipeline: a step-by-step quick start guide"
   ]
  },
  {
   "cell_type": "markdown",
   "metadata": {},
   "source": [
    "This notebook will show you step-by-step how to use the *CitedLoci* pipeline to index canonical citations (e.g. Hom. *Il.* 1,1-10) from plain text documents. \n",
    "\n",
    "The diagram below indicates the pipeline components that are involved at each step of the process. "
   ]
  },
  {
   "cell_type": "markdown",
   "metadata": {},
   "source": [
    "![](imgs/citedloci-pipeline.png)"
   ]
  },
  {
   "cell_type": "markdown",
   "metadata": {},
   "source": [
    "# Running the pipeline"
   ]
  },
  {
   "cell_type": "markdown",
   "metadata": {},
   "source": [
    "## Introduction"
   ]
  },
  {
   "cell_type": "markdown",
   "metadata": {},
   "source": [
    "Upon installation, the Python library `CitationExtractor` will also install a command-line script called `citedloci-pipeline` which allows you execute the various steps of the citation extraction pipeline directly from the command-line."
   ]
  },
  {
   "cell_type": "code",
   "execution_count": 38,
   "metadata": {},
   "outputs": [
    {
     "name": "stdout",
     "output_type": "stream",
     "text": [
      "No handlers could be found for logger \"citation_extractor.crfpp_wrap\"\n",
      "1.7.2\n"
     ]
    }
   ],
   "source": [
    "!citedloci-pipeline --version"
   ]
  },
  {
   "cell_type": "markdown",
   "metadata": {},
   "source": [
    "To simplify the pipeline execution, all configuration parameters are stored in the file [`config/project.ini`](config/project.ini), which looks as follows:"
   ]
  },
  {
   "cell_type": "code",
   "execution_count": 39,
   "metadata": {},
   "outputs": [
    {
     "name": "stdout",
     "output_type": "stream",
     "text": [
      "[general]\r\n",
      "\r\n",
      "storage = pickles\r\n",
      "working_dir = ./data/\r\n",
      "\r\n",
      "\r\n",
      "[preproc]\r\n",
      "\r\n",
      "abbreviation_list = data/abbreviations.txt\r\n",
      "split_sentences = false\r\n",
      "treetagger_home = /home/romanell/tree-tagger/\r\n",
      "\r\n",
      "[ner]\r\n",
      "\r\n",
      "# this is horrible. all configurations should be here, not in separate places\r\n",
      "model_settings_dir = config/ner/\r\n",
      "model_name = crfsuite\r\n",
      "\r\n",
      "[relex]\r\n",
      "\r\n",
      "[ned]\r\n",
      "\r\n",
      "kb_config = config/hucit.ini\r\n",
      "#kb_config = config/hucit_local.ini\r\n"
     ]
    }
   ],
   "source": [
    "!cat config/project.ini"
   ]
  },
  {
   "cell_type": "markdown",
   "metadata": {},
   "source": [
    "To speed up processing, some Python objects that have longer initialisation time (e.g. because they require some training) are already pre-computed and stored as **pickled objects** in the folder [`pickles/`](pickles/).\n",
    "\n",
    "Input and output data (both intermediate and final) can be found respectively in [`data/orig/`](data/orig/) (input) and [`data/json/`](data/json/) (final JSON output). "
   ]
  },
  {
   "cell_type": "markdown",
   "metadata": {},
   "source": [
    "## Pre-processing"
   ]
  },
  {
   "cell_type": "markdown",
   "metadata": {},
   "source": [
    "Pre-processing is applied to all input text files, and consists of the following operations:\n",
    "- sentence splitting\n",
    "- tokenization and part-of-speech tagging (using `TreeTagger`)\n",
    "- language identification (using `langid`)\n",
    "\n",
    "The pre-processed files are then written to [`data/iob/`](data/iob/) as an IOB-formatted file. "
   ]
  },
  {
   "cell_type": "code",
   "execution_count": 40,
   "metadata": {},
   "outputs": [
    {
     "name": "stdout",
     "output_type": "stream",
     "text": [
      "No handlers could be found for logger \"citation_extractor.crfpp_wrap\"\n",
      "Wed, 23 Jun 2021 11:55:38 - citation_extractor.Utils.IO - [INFO] Logger initialised\n",
      "Wed, 23 Jun 2021 11:55:38 - citation_extractor.Utils.IO - [INFO] Current working directory: /media/romanell/4T/matteo/ClassicsCitations/IndexLocorum101/data\n",
      "Wed, 23 Jun 2021 11:55:38 - citation_extractor.Utils.IO - [INFO] There are 1 docs to process\n",
      "Wed, 23 Jun 2021 11:55:38 - citation_extractor.Utils.IO - [INFO] Following documents will be processed: [u'bmcr_2013-01-10.txt']\n",
      "Wed, 23 Jun 2021 11:55:38 - citation_extractor.Utils.IO - [INFO] Env variable $TREETAGGER_HOME == /home/romanell/tree-tagger/\n",
      "Wed, 23 Jun 2021 11:55:38 - citation_extractor.Utils.IO - [INFO] Treetagger for fr successfully initialised\n",
      "Wed, 23 Jun 2021 11:55:38 - citation_extractor.Utils.IO - [INFO] Treetagger for en successfully initialised\n",
      "Wed, 23 Jun 2021 11:55:38 - citation_extractor.Utils.IO - [INFO] Treetagger for nl successfully initialised\n",
      "Wed, 23 Jun 2021 11:55:38 - citation_extractor.Utils.IO - [INFO] Treetagger for de successfully initialised\n",
      "Wed, 23 Jun 2021 11:55:38 - citation_extractor.Utils.IO - [INFO] Treetagger for it successfully initialised\n",
      "Wed, 23 Jun 2021 11:55:38 - citation_extractor.Utils.IO - [INFO] Treetagger for es successfully initialised\n",
      "Wed, 23 Jun 2021 11:55:38 - citation_extractor.Utils.IO - [INFO] Document \"bmcr_2013-01-10.txt\" has 77 sentences\n",
      "Wed, 23 Jun 2021 11:55:38 - citation_extractor.Utils.IO - [INFO] Written intermediate output to /media/romanell/4T/matteo/ClassicsCitations/IndexLocorum101/data/txt/bmcr_2013-01-10.txt\n",
      "Wed, 23 Jun 2021 11:55:38 - langid.langid - [INFO] initializing identifier\n",
      "Wed, 23 Jun 2021 11:55:39 - citation_extractor.Utils.IO - [INFO] Language detected=\"en\"\n",
      "Wed, 23 Jun 2021 11:55:57 - citation_extractor.Utils.IO - [INFO] Written IOB output to /media/romanell/4T/matteo/ClassicsCitations/IndexLocorum101/data/iob/bmcr_2013-01-10.txt\n",
      "CPU times: user 583 ms, sys: 120 ms, total: 703 ms\n",
      "Wall time: 22.1 s\n"
     ]
    }
   ],
   "source": [
    "%%time\n",
    "!citedloci-pipeline do preproc --config=config/project.ini"
   ]
  },
  {
   "cell_type": "markdown",
   "metadata": {},
   "source": [
    "## Named entity recognition (NER)"
   ]
  },
  {
   "cell_type": "markdown",
   "metadata": {},
   "source": [
    "The NER step is responsible for extracting citation components that can be found in a text. \n",
    "Each component is tagged with a named entity tag:\n",
    "- a mention of \"Homer\" will be tagged as `<AAUTHOR>Homer</AAUTHOR>` – where `AAUTHOR` means ancient author)\n",
    "- \"*Iliad*\" will be tagged as `<AWORK>Iliad</AWORK>` – where `AWORK` means ancient work)\n",
    "- and \"Hom. Il. 1.1-10\" will be tagged as `<REFAUWORK>Hom. Il. </REFAUWORK>` and `<REFSCOPE>1.1-10</REFSCOPE>`"
   ]
  },
  {
   "cell_type": "markdown",
   "metadata": {},
   "source": [
    "Process all files:"
   ]
  },
  {
   "cell_type": "code",
   "execution_count": 41,
   "metadata": {},
   "outputs": [
    {
     "name": "stdout",
     "output_type": "stream",
     "text": [
      "No handlers could be found for logger \"citation_extractor.crfpp_wrap\"\n",
      "Wed, 23 Jun 2021 11:56:00 - citation_extractor.Utils.IO - [INFO] Logger initialised\n",
      "Wed, 23 Jun 2021 11:56:00 - citation_extractor.Utils.IO - [INFO] Current working directory: /media/romanell/4T/matteo/ClassicsCitations/IndexLocorum101/data\n",
      "Wed, 23 Jun 2021 11:56:00 - citation_extractor.Utils.IO - [INFO] There are 1 docs to process\n",
      "Wed, 23 Jun 2021 11:56:00 - citation_extractor.Utils.IO - [INFO] Following documents will be processed: [u'bmcr_2013-01-10.txt']\n",
      "Wed, 23 Jun 2021 11:56:00 - citation_extractor.Utils.IO - [INFO] Extractor loaded from pickle /media/romanell/4T/matteo/ClassicsCitations/IndexLocorum101/pickles/extractor.pkl\n",
      "Wed, 23 Jun 2021 11:56:02 - citation_extractor.Utils.IO - [INFO] Output successfully written to file\n",
      "Wed, 23 Jun 2021 11:56:02 - citation_extractor.io.converters - [WARNING] No knowledge based was provided, thus `self._convert_disambiguations()` won't work.\n",
      "Wed, 23 Jun 2021 11:56:02 - citation_extractor.io.converters - [INFO] Document bmcr_2013-01-10 has 75 sentences\n",
      "Wed, 23 Jun 2021 11:56:02 - citation_extractor.Utils.IO - [INFO] Finished processing document bmcr_2013-01-10.txt\n"
     ]
    }
   ],
   "source": [
    "!citedloci-pipeline do ner --config=config/project.ini"
   ]
  },
  {
   "cell_type": "markdown",
   "metadata": {},
   "source": [
    "Instead of the batch processing mode, it's also possible to process one specific document (from input folders):"
   ]
  },
  {
   "cell_type": "code",
   "execution_count": 42,
   "metadata": {},
   "outputs": [
    {
     "name": "stdout",
     "output_type": "stream",
     "text": [
      "No handlers could be found for logger \"citation_extractor.crfpp_wrap\"\n",
      "Wed, 23 Jun 2021 11:56:05 - citation_extractor.Utils.IO - [INFO] Logger initialised\n",
      "Wed, 23 Jun 2021 11:56:05 - citation_extractor.Utils.IO - [INFO] Current working directory: /media/romanell/4T/matteo/ClassicsCitations/IndexLocorum101/data\n",
      "Wed, 23 Jun 2021 11:56:05 - citation_extractor.Utils.IO - [INFO] There are 1 docs to process\n",
      "Wed, 23 Jun 2021 11:56:05 - citation_extractor.Utils.IO - [INFO] Following documents will be processed: ['bmcr_2013-01-10.txt']\n",
      "Wed, 23 Jun 2021 11:56:05 - citation_extractor.Utils.IO - [INFO] Extractor loaded from pickle /media/romanell/4T/matteo/ClassicsCitations/IndexLocorum101/pickles/extractor.pkl\n",
      "Wed, 23 Jun 2021 11:56:07 - citation_extractor.Utils.IO - [INFO] Output successfully written to file\n",
      "Wed, 23 Jun 2021 11:56:07 - citation_extractor.io.converters - [WARNING] No knowledge based was provided, thus `self._convert_disambiguations()` won't work.\n",
      "Wed, 23 Jun 2021 11:56:07 - citation_extractor.io.converters - [INFO] Document bmcr_2013-01-10 has 75 sentences\n",
      "Wed, 23 Jun 2021 11:56:07 - citation_extractor.Utils.IO - [INFO] Finished processing document bmcr_2013-01-10.txt\n"
     ]
    }
   ],
   "source": [
    "# this command is equivalent to the one below as there is only that one\n",
    "# input text document in any case\n",
    "\n",
    "!citedloci-pipeline do ner --config=config/project.ini --doc=bmcr_2013-01-10.txt"
   ]
  },
  {
   "cell_type": "markdown",
   "metadata": {},
   "source": [
    "At this point, the JSON output file will contain, among other things, a list of the extracted named entities (i.e. citation components). "
   ]
  },
  {
   "cell_type": "code",
   "execution_count": 43,
   "metadata": {},
   "outputs": [
    {
     "name": "stdout",
     "output_type": "stream",
     "text": [
      "\u001b[1;39m{\r\n",
      "  \u001b[0m\u001b[34;1m\"11\"\u001b[0m\u001b[1;39m: \u001b[0m\u001b[1;39m{\r\n",
      "    \u001b[0m\u001b[34;1m\"surface\"\u001b[0m\u001b[1;39m: \u001b[0m\u001b[0;32m\"Thucydide\"\u001b[0m\u001b[1;39m,\r\n",
      "    \u001b[0m\u001b[34;1m\"end_offset\"\u001b[0m\u001b[1;39m: \u001b[0m\u001b[0;39m8562\u001b[0m\u001b[1;39m,\r\n",
      "    \u001b[0m\u001b[34;1m\"id\"\u001b[0m\u001b[1;39m: \u001b[0m\u001b[0;32m\"11\"\u001b[0m\u001b[1;39m,\r\n",
      "    \u001b[0m\u001b[34;1m\"start_offset\"\u001b[0m\u001b[1;39m: \u001b[0m\u001b[0;39m8553\u001b[0m\u001b[1;39m,\r\n",
      "    \u001b[0m\u001b[34;1m\"entity_type\"\u001b[0m\u001b[1;39m: \u001b[0m\u001b[0;32m\"AAUTHOR\"\u001b[0m\u001b[1;39m\r\n",
      "  \u001b[1;39m}\u001b[0m\u001b[1;39m,\r\n",
      "  \u001b[0m\u001b[34;1m\"10\"\u001b[0m\u001b[1;39m: \u001b[0m\u001b[1;39m{\r\n",
      "    \u001b[0m\u001b[34;1m\"surface\"\u001b[0m\u001b[1;39m: \u001b[0m\u001b[0;32m\"Thucydides,\"\u001b[0m\u001b[1;39m,\r\n",
      "    \u001b[0m\u001b[34;1m\"end_offset\"\u001b[0m\u001b[1;39m: \u001b[0m\u001b[0;39m8427\u001b[0m\u001b[1;39m,\r\n",
      "    \u001b[0m\u001b[34;1m\"id\"\u001b[0m\u001b[1;39m: \u001b[0m\u001b[0;32m\"10\"\u001b[0m\u001b[1;39m,\r\n",
      "    \u001b[0m\u001b[34;1m\"start_offset\"\u001b[0m\u001b[1;39m: \u001b[0m\u001b[0;39m8416\u001b[0m\u001b[1;39m,\r\n",
      "    \u001b[0m\u001b[34;1m\"entity_type\"\u001b[0m\u001b[1;39m: \u001b[0m\u001b[0;32m\"AAUTHOR\"\u001b[0m\u001b[1;39m\r\n",
      "  \u001b[1;39m}\u001b[0m\u001b[1;39m,\r\n",
      "  \u001b[0m\u001b[34;1m\"13\"\u001b[0m\u001b[1;39m: \u001b[0m\u001b[1;39m{\r\n",
      "    \u001b[0m\u001b[34;1m\"surface\"\u001b[0m\u001b[1;39m: \u001b[0m\u001b[0;32m\"(Hdt.\"\u001b[0m\u001b[1;39m,\r\n",
      "    \u001b[0m\u001b[34;1m\"end_offset\"\u001b[0m\u001b[1;39m: \u001b[0m\u001b[0;39m9864\u001b[0m\u001b[1;39m,\r\n",
      "    \u001b[0m\u001b[34;1m\"id\"\u001b[0m\u001b[1;39m: \u001b[0m\u001b[0;32m\"13\"\u001b[0m\u001b[1;39m,\r\n",
      "    \u001b[0m\u001b[34;1m\"start_offset\"\u001b[0m\u001b[1;39m: \u001b[0m\u001b[0;39m9859\u001b[0m\u001b[1;39m,\r\n",
      "    \u001b[0m\u001b[34;1m\"entity_type\"\u001b[0m\u001b[1;39m: \u001b[0m\u001b[0;32m\"REFAUWORK\"\u001b[0m\u001b[1;39m\r\n",
      "  \u001b[1;39m}\u001b[0m\u001b[1;39m,\r\n",
      "  \u001b[0m\u001b[34;1m\"12\"\u001b[0m\u001b[1;39m: \u001b[0m\u001b[1;39m{\r\n",
      "    \u001b[0m\u001b[34;1m\"surface\"\u001b[0m\u001b[1;39m: \u001b[0m\u001b[0;32m\"Herodotus\"\u001b[0m\u001b[1;39m,\r\n",
      "    \u001b[0m\u001b[34;1m\"end_offset\"\u001b[0m\u001b[1;39m: \u001b[0m\u001b[0;39m9801\u001b[0m\u001b[1;39m,\r\n",
      "    \u001b[0m\u001b[34;1m\"id\"\u001b[0m\u001b[1;39m: \u001b[0m\u001b[0;32m\"12\"\u001b[0m\u001b[1;39m,\r\n",
      "    \u001b[0m\u001b[34;1m\"start_offset\"\u001b[0m\u001b[1;39m: \u001b[0m\u001b[0;39m9792\u001b[0m\u001b[1;39m,\r\n",
      "    \u001b[0m\u001b[34;1m\"entity_type\"\u001b[0m\u001b[1;39m: \u001b[0m\u001b[0;32m\"AAUTHOR\"\u001b[0m\u001b[1;39m\r\n",
      "  \u001b[1;39m}\u001b[0m\u001b[1;39m,\r\n",
      "  \u001b[0m\u001b[34;1m\"14\"\u001b[0m\u001b[1;39m: \u001b[0m\u001b[1;39m{\r\n",
      "    \u001b[0m\u001b[34;1m\"surface\"\u001b[0m\u001b[1;39m: \u001b[0m\u001b[0;32m\"3.38.5).\"\u001b[0m\u001b[1;39m,\r\n",
      "    \u001b[0m\u001b[34;1m\"end_offset\"\u001b[0m\u001b[1;39m: \u001b[0m\u001b[0;39m9873\u001b[0m\u001b[1;39m,\r\n",
      "    \u001b[0m\u001b[34;1m\"id\"\u001b[0m\u001b[1;39m: \u001b[0m\u001b[0;32m\"14\"\u001b[0m\u001b[1;39m,\r\n",
      "    \u001b[0m\u001b[34;1m\"start_offset\"\u001b[0m\u001b[1;39m: \u001b[0m\u001b[0;39m9865\u001b[0m\u001b[1;39m,\r\n",
      "    \u001b[0m\u001b[34;1m\"entity_type\"\u001b[0m\u001b[1;39m: \u001b[0m\u001b[0;32m\"REFSCOPE\"\u001b[0m\u001b[1;39m\r\n",
      "  \u001b[1;39m}\u001b[0m\u001b[1;39m,\r\n",
      "  \u001b[0m\u001b[34;1m\"1\"\u001b[0m\u001b[1;39m: \u001b[0m\u001b[1;39m{\r\n",
      "    \u001b[0m\u001b[34;1m\"surface\"\u001b[0m\u001b[1;39m: \u001b[0m\u001b[0;32m\"Herodotus,\"\u001b[0m\u001b[1;39m,\r\n",
      "    \u001b[0m\u001b[34;1m\"end_offset\"\u001b[0m\u001b[1;39m: \u001b[0m\u001b[0;39m704\u001b[0m\u001b[1;39m,\r\n",
      "    \u001b[0m\u001b[34;1m\"id\"\u001b[0m\u001b[1;39m: \u001b[0m\u001b[0;32m\"1\"\u001b[0m\u001b[1;39m,\r\n",
      "    \u001b[0m\u001b[34;1m\"start_offset\"\u001b[0m\u001b[1;39m: \u001b[0m\u001b[0;39m694\u001b[0m\u001b[1;39m,\r\n",
      "    \u001b[0m\u001b[34;1m\"entity_type\"\u001b[0m\u001b[1;39m: \u001b[0m\u001b[0;32m\"AAUTHOR\"\u001b[0m\u001b[1;39m\r\n",
      "  \u001b[1;39m}\u001b[0m\u001b[1;39m,\r\n",
      "  \u001b[0m\u001b[34;1m\"3\"\u001b[0m\u001b[1;39m: \u001b[0m\u001b[1;39m{\r\n",
      "    \u001b[0m\u001b[34;1m\"surface\"\u001b[0m\u001b[1;39m: \u001b[0m\u001b[0;32m\"(Thuc.\"\u001b[0m\u001b[1;39m,\r\n",
      "    \u001b[0m\u001b[34;1m\"end_offset\"\u001b[0m\u001b[1;39m: \u001b[0m\u001b[0;39m1330\u001b[0m\u001b[1;39m,\r\n",
      "    \u001b[0m\u001b[34;1m\"id\"\u001b[0m\u001b[1;39m: \u001b[0m\u001b[0;32m\"3\"\u001b[0m\u001b[1;39m,\r\n",
      "    \u001b[0m\u001b[34;1m\"start_offset\"\u001b[0m\u001b[1;39m: \u001b[0m\u001b[0;39m1324\u001b[0m\u001b[1;39m,\r\n",
      "    \u001b[0m\u001b[34;1m\"entity_type\"\u001b[0m\u001b[1;39m: \u001b[0m\u001b[0;32m\"REFAUWORK\"\u001b[0m\u001b[1;39m\r\n",
      "  \u001b[1;39m}\u001b[0m\u001b[1;39m,\r\n",
      "  \u001b[0m\u001b[34;1m\"2\"\u001b[0m\u001b[1;39m: \u001b[0m\u001b[1;39m{\r\n",
      "    \u001b[0m\u001b[34;1m\"surface\"\u001b[0m\u001b[1;39m: \u001b[0m\u001b[0;32m\"Thucydides\"\u001b[0m\u001b[1;39m,\r\n",
      "    \u001b[0m\u001b[34;1m\"end_offset\"\u001b[0m\u001b[1;39m: \u001b[0m\u001b[0;39m715\u001b[0m\u001b[1;39m,\r\n",
      "    \u001b[0m\u001b[34;1m\"id\"\u001b[0m\u001b[1;39m: \u001b[0m\u001b[0;32m\"2\"\u001b[0m\u001b[1;39m,\r\n",
      "    \u001b[0m\u001b[34;1m\"start_offset\"\u001b[0m\u001b[1;39m: \u001b[0m\u001b[0;39m705\u001b[0m\u001b[1;39m,\r\n",
      "    \u001b[0m\u001b[34;1m\"entity_type\"\u001b[0m\u001b[1;39m: \u001b[0m\u001b[0;32m\"AAUTHOR\"\u001b[0m\u001b[1;39m\r\n",
      "  \u001b[1;39m}\u001b[0m\u001b[1;39m,\r\n",
      "  \u001b[0m\u001b[34;1m\"5\"\u001b[0m\u001b[1;39m: \u001b[0m\u001b[1;39m{\r\n",
      "    \u001b[0m\u001b[34;1m\"surface\"\u001b[0m\u001b[1;39m: \u001b[0m\u001b[0;32m\"Xen. Hell.\"\u001b[0m\u001b[1;39m,\r\n",
      "    \u001b[0m\u001b[34;1m\"end_offset\"\u001b[0m\u001b[1;39m: \u001b[0m\u001b[0;39m1354\u001b[0m\u001b[1;39m,\r\n",
      "    \u001b[0m\u001b[34;1m\"id\"\u001b[0m\u001b[1;39m: \u001b[0m\u001b[0;32m\"5\"\u001b[0m\u001b[1;39m,\r\n",
      "    \u001b[0m\u001b[34;1m\"start_offset\"\u001b[0m\u001b[1;39m: \u001b[0m\u001b[0;39m1344\u001b[0m\u001b[1;39m,\r\n",
      "    \u001b[0m\u001b[34;1m\"entity_type\"\u001b[0m\u001b[1;39m: \u001b[0m\u001b[0;32m\"REFAUWORK\"\u001b[0m\u001b[1;39m\r\n",
      "  \u001b[1;39m}\u001b[0m\u001b[1;39m,\r\n",
      "  \u001b[0m\u001b[34;1m\"4\"\u001b[0m\u001b[1;39m: \u001b[0m\u001b[1;39m{\r\n",
      "    \u001b[0m\u001b[34;1m\"surface\"\u001b[0m\u001b[1;39m: \u001b[0m\u001b[0;32m\"1.101.2.\"\u001b[0m\u001b[1;39m,\r\n",
      "    \u001b[0m\u001b[34;1m\"end_offset\"\u001b[0m\u001b[1;39m: \u001b[0m\u001b[0;39m1339\u001b[0m\u001b[1;39m,\r\n",
      "    \u001b[0m\u001b[34;1m\"id\"\u001b[0m\u001b[1;39m: \u001b[0m\u001b[0;32m\"4\"\u001b[0m\u001b[1;39m,\r\n",
      "    \u001b[0m\u001b[34;1m\"start_offset\"\u001b[0m\u001b[1;39m: \u001b[0m\u001b[0;39m1331\u001b[0m\u001b[1;39m,\r\n",
      "    \u001b[0m\u001b[34;1m\"entity_type\"\u001b[0m\u001b[1;39m: \u001b[0m\u001b[0;32m\"REFSCOPE\"\u001b[0m\u001b[1;39m\r\n",
      "  \u001b[1;39m}\u001b[0m\u001b[1;39m,\r\n",
      "  \u001b[0m\u001b[34;1m\"7\"\u001b[0m\u001b[1;39m: \u001b[0m\u001b[1;39m{\r\n",
      "    \u001b[0m\u001b[34;1m\"surface\"\u001b[0m\u001b[1;39m: \u001b[0m\u001b[0;32m\"Dike\"\u001b[0m\u001b[1;39m,\r\n",
      "    \u001b[0m\u001b[34;1m\"end_offset\"\u001b[0m\u001b[1;39m: \u001b[0m\u001b[0;39m3744\u001b[0m\u001b[1;39m,\r\n",
      "    \u001b[0m\u001b[34;1m\"id\"\u001b[0m\u001b[1;39m: \u001b[0m\u001b[0;32m\"7\"\u001b[0m\u001b[1;39m,\r\n",
      "    \u001b[0m\u001b[34;1m\"start_offset\"\u001b[0m\u001b[1;39m: \u001b[0m\u001b[0;39m3740\u001b[0m\u001b[1;39m,\r\n",
      "    \u001b[0m\u001b[34;1m\"entity_type\"\u001b[0m\u001b[1;39m: \u001b[0m\u001b[0;32m\"REFAUWORK\"\u001b[0m\u001b[1;39m\r\n",
      "  \u001b[1;39m}\u001b[0m\u001b[1;39m,\r\n",
      "  \u001b[0m\u001b[34;1m\"6\"\u001b[0m\u001b[1;39m: \u001b[0m\u001b[1;39m{\r\n",
      "    \u001b[0m\u001b[34;1m\"surface\"\u001b[0m\u001b[1;39m: \u001b[0m\u001b[0;32m\"3.3)\"\u001b[0m\u001b[1;39m,\r\n",
      "    \u001b[0m\u001b[34;1m\"end_offset\"\u001b[0m\u001b[1;39m: \u001b[0m\u001b[0;39m1359\u001b[0m\u001b[1;39m,\r\n",
      "    \u001b[0m\u001b[34;1m\"id\"\u001b[0m\u001b[1;39m: \u001b[0m\u001b[0;32m\"6\"\u001b[0m\u001b[1;39m,\r\n",
      "    \u001b[0m\u001b[34;1m\"start_offset\"\u001b[0m\u001b[1;39m: \u001b[0m\u001b[0;39m1355\u001b[0m\u001b[1;39m,\r\n",
      "    \u001b[0m\u001b[34;1m\"entity_type\"\u001b[0m\u001b[1;39m: \u001b[0m\u001b[0;32m\"REFSCOPE\"\u001b[0m\u001b[1;39m\r\n",
      "  \u001b[1;39m}\u001b[0m\u001b[1;39m,\r\n",
      "  \u001b[0m\u001b[34;1m\"9\"\u001b[0m\u001b[1;39m: \u001b[0m\u001b[1;39m{\r\n",
      "    \u001b[0m\u001b[34;1m\"surface\"\u001b[0m\u001b[1;39m: \u001b[0m\u001b[0;32m\"Aristophanes,\"\u001b[0m\u001b[1;39m,\r\n",
      "    \u001b[0m\u001b[34;1m\"end_offset\"\u001b[0m\u001b[1;39m: \u001b[0m\u001b[0;39m4803\u001b[0m\u001b[1;39m,\r\n",
      "    \u001b[0m\u001b[34;1m\"id\"\u001b[0m\u001b[1;39m: \u001b[0m\u001b[0;32m\"9\"\u001b[0m\u001b[1;39m,\r\n",
      "    \u001b[0m\u001b[34;1m\"start_offset\"\u001b[0m\u001b[1;39m: \u001b[0m\u001b[0;39m4790\u001b[0m\u001b[1;39m,\r\n",
      "    \u001b[0m\u001b[34;1m\"entity_type\"\u001b[0m\u001b[1;39m: \u001b[0m\u001b[0;32m\"AAUTHOR\"\u001b[0m\u001b[1;39m\r\n",
      "  \u001b[1;39m}\u001b[0m\u001b[1;39m,\r\n",
      "  \u001b[0m\u001b[34;1m\"8\"\u001b[0m\u001b[1;39m: \u001b[0m\u001b[1;39m{\r\n",
      "    \u001b[0m\u001b[34;1m\"surface\"\u001b[0m\u001b[1;39m: \u001b[0m\u001b[0;32m\"12-13,\"\u001b[0m\u001b[1;39m,\r\n",
      "    \u001b[0m\u001b[34;1m\"end_offset\"\u001b[0m\u001b[1;39m: \u001b[0m\u001b[0;39m3751\u001b[0m\u001b[1;39m,\r\n",
      "    \u001b[0m\u001b[34;1m\"id\"\u001b[0m\u001b[1;39m: \u001b[0m\u001b[0;32m\"8\"\u001b[0m\u001b[1;39m,\r\n",
      "    \u001b[0m\u001b[34;1m\"start_offset\"\u001b[0m\u001b[1;39m: \u001b[0m\u001b[0;39m3745\u001b[0m\u001b[1;39m,\r\n",
      "    \u001b[0m\u001b[34;1m\"entity_type\"\u001b[0m\u001b[1;39m: \u001b[0m\u001b[0;32m\"REFSCOPE\"\u001b[0m\u001b[1;39m\r\n",
      "  \u001b[1;39m}\u001b[0m\u001b[1;39m\r\n",
      "\u001b[1;39m}\u001b[0m\r\n"
     ]
    }
   ],
   "source": [
    "cat data/json/bmcr_2013-01-10.json | jq \".entities\""
   ]
  },
  {
   "cell_type": "markdown",
   "metadata": {},
   "source": [
    "## Relation extraction"
   ]
  },
  {
   "cell_type": "markdown",
   "metadata": {},
   "source": [
    "The relation extraction step groups together components that are part of the same citation. This step is necessary to reconstruct the existing logical relation between consecutive citations to the same work. "
   ]
  },
  {
   "cell_type": "code",
   "execution_count": 44,
   "metadata": {},
   "outputs": [
    {
     "name": "stdout",
     "output_type": "stream",
     "text": [
      "No handlers could be found for logger \"citation_extractor.crfpp_wrap\"\n",
      "Wed, 23 Jun 2021 11:56:10 - citation_extractor.Utils.IO - [INFO] Logger initialised\n",
      "Wed, 23 Jun 2021 11:56:10 - citation_extractor.Utils.IO - [INFO] Current working directory: /media/romanell/4T/matteo/ClassicsCitations/IndexLocorum101/data\n",
      "Wed, 23 Jun 2021 11:56:10 - citation_extractor.Utils.IO - [INFO] There are 1 docs to process\n",
      "Wed, 23 Jun 2021 11:56:10 - citation_extractor.Utils.IO - [INFO] Following documents will be processed: [u'bmcr_2013-01-10.json']\n",
      "Wed, 23 Jun 2021 11:56:10 - citation_extractor.Utils.IO - [INFO] Document bmcr_2013-01-10.json contains 14 entities.\n",
      "Wed, 23 Jun 2021 11:56:10 - citation_extractor.Utils.IO - [INFO] Document bmcr_2013-01-10.json (14 entities, 4 relations) written to /media/romanell/4T/matteo/ClassicsCitations/IndexLocorum101/data/json/bmcr_2013-01-10.json\n"
     ]
    }
   ],
   "source": [
    "!citedloci-pipeline do relex --config=config/project.ini"
   ]
  },
  {
   "cell_type": "markdown",
   "metadata": {},
   "source": [
    "Each relation receives an ID (e.g. `R4`) and is made of two components (that we call *arguments*). Each argument is the ID of the corresponding entity."
   ]
  },
  {
   "cell_type": "code",
   "execution_count": 45,
   "metadata": {},
   "outputs": [
    {
     "name": "stdout",
     "output_type": "stream",
     "text": [
      "\u001b[1;39m{\r\n",
      "  \u001b[0m\u001b[34;1m\"R4\"\u001b[0m\u001b[1;39m: \u001b[0m\u001b[1;39m[\r\n",
      "    \u001b[0;32m\"13\"\u001b[0m\u001b[1;39m,\r\n",
      "    \u001b[0;32m\"14\"\u001b[0m\u001b[1;39m\r\n",
      "  \u001b[1;39m]\u001b[0m\u001b[1;39m,\r\n",
      "  \u001b[0m\u001b[34;1m\"R1\"\u001b[0m\u001b[1;39m: \u001b[0m\u001b[1;39m[\r\n",
      "    \u001b[0;32m\"3\"\u001b[0m\u001b[1;39m,\r\n",
      "    \u001b[0;32m\"4\"\u001b[0m\u001b[1;39m\r\n",
      "  \u001b[1;39m]\u001b[0m\u001b[1;39m,\r\n",
      "  \u001b[0m\u001b[34;1m\"R2\"\u001b[0m\u001b[1;39m: \u001b[0m\u001b[1;39m[\r\n",
      "    \u001b[0;32m\"5\"\u001b[0m\u001b[1;39m,\r\n",
      "    \u001b[0;32m\"6\"\u001b[0m\u001b[1;39m\r\n",
      "  \u001b[1;39m]\u001b[0m\u001b[1;39m,\r\n",
      "  \u001b[0m\u001b[34;1m\"R3\"\u001b[0m\u001b[1;39m: \u001b[0m\u001b[1;39m[\r\n",
      "    \u001b[0;32m\"7\"\u001b[0m\u001b[1;39m,\r\n",
      "    \u001b[0;32m\"8\"\u001b[0m\u001b[1;39m\r\n",
      "  \u001b[1;39m]\u001b[0m\u001b[1;39m\r\n",
      "\u001b[1;39m}\u001b[0m\r\n"
     ]
    }
   ],
   "source": [
    "cat data/json/bmcr_2013-01-10.json | jq \".|.relations\""
   ]
  },
  {
   "cell_type": "markdown",
   "metadata": {},
   "source": [
    "## Named entity linking"
   ]
  },
  {
   "cell_type": "markdown",
   "metadata": {},
   "source": [
    "Finally, the last step consists in assigning a unique identifier (CTS URN) to each canonical citation (relation) that has been previously extracted from text."
   ]
  },
  {
   "cell_type": "markdown",
   "metadata": {},
   "source": [
    "⚠️If you are executing this notebook from Binder, this step is likely to take a very long time to execute, due to the limitations of the remote knowledge base that is used by default. For faster processing times, it's recommended to set up a local triple store for the knowledge base, and then point to it in the `[ned]` section of the project configuration file ([`config/project.ini`](config/project.ini))."
   ]
  },
  {
   "cell_type": "code",
   "execution_count": 46,
   "metadata": {},
   "outputs": [
    {
     "name": "stdout",
     "output_type": "stream",
     "text": [
      "No handlers could be found for logger \"citation_extractor.crfpp_wrap\"\n",
      "Wed, 23 Jun 2021 11:56:13 - citation_extractor.Utils.IO - [INFO] Logger initialised\n",
      "Wed, 23 Jun 2021 11:56:13 - citation_extractor.Utils.IO - [INFO] Current working directory: /media/romanell/4T/matteo/ClassicsCitations/IndexLocorum101/data\n",
      "Wed, 23 Jun 2021 11:56:14 - citation_extractor.Utils.IO - [INFO] CitationMatcher loaded from pickle /media/romanell/4T/matteo/ClassicsCitations/IndexLocorum101/pickles/matcher.pkl\n",
      "Wed, 23 Jun 2021 11:56:14 - citation_extractor.Utils.IO - [INFO] There are 1 docs to process\n",
      "Wed, 23 Jun 2021 11:56:14 - citation_extractor.Utils.IO - [INFO] Following documents will be processed: [u'bmcr_2013-01-10.json']\n",
      "(CITATION (REF (SCOPE_S (LEVEL 3) (LEVEL 38) (LEVEL 5))))\n",
      "Wed, 23 Jun 2021 11:56:16 - citation_extractor.Utils.IO - [INFO] 3.38.5). => 3.38.5\n",
      "(CITATION (REF (SCOPE_S (LEVEL 1) (LEVEL 101) (LEVEL 2))))\n",
      "Wed, 23 Jun 2021 11:56:16 - citation_extractor.Utils.IO - [INFO] 1.101.2. => 1.101.2\n",
      "(CITATION (REF (SCOPE_S (LEVEL 3) (LEVEL 3))))\n",
      "Wed, 23 Jun 2021 11:56:16 - citation_extractor.Utils.IO - [INFO] 3.3) => 3.3\n",
      "(CITATION (REF (SCOPE_R (START (LEVEL 12)) (END (LEVEL 13)))))\n",
      "Wed, 23 Jun 2021 11:56:16 - citation_extractor.Utils.IO - [INFO] 12-13, => 12-13\n",
      "Wed, 23 Jun 2021 11:56:16 - citation_extractor.Utils.IO - [INFO] Document bmcr_2013-01-10.json: total entities 14; disambiguated: 3\n",
      "Wed, 23 Jun 2021 11:56:16 - citation_extractor.Utils.IO - [INFO] Document bmcr_2013-01-10.json written to /media/romanell/4T/matteo/ClassicsCitations/IndexLocorum101/data/json/bmcr_2013-01-10.json\n"
     ]
    }
   ],
   "source": [
    "!citedloci-pipeline do ned --config=config/project.ini"
   ]
  },
  {
   "cell_type": "markdown",
   "metadata": {},
   "source": [
    "If you inspect again now the JSON output file, you will notice that some entities were enriched with attributes like `urn` and `work_uri`. These attributes indicates that the entity was disambiguated and linked with the corresponding record in the HuCit knowledge base. "
   ]
  },
  {
   "cell_type": "code",
   "execution_count": 47,
   "metadata": {},
   "outputs": [
    {
     "name": "stdout",
     "output_type": "stream",
     "text": [
      "\u001b[1;39m{\r\n",
      "  \u001b[0m\u001b[34;1m\"11\"\u001b[0m\u001b[1;39m: \u001b[0m\u001b[1;39m{\r\n",
      "    \u001b[0m\u001b[34;1m\"end_offset\"\u001b[0m\u001b[1;39m: \u001b[0m\u001b[0;39m8562\u001b[0m\u001b[1;39m,\r\n",
      "    \u001b[0m\u001b[34;1m\"entity_type\"\u001b[0m\u001b[1;39m: \u001b[0m\u001b[0;32m\"AAUTHOR\"\u001b[0m\u001b[1;39m,\r\n",
      "    \u001b[0m\u001b[34;1m\"id\"\u001b[0m\u001b[1;39m: \u001b[0m\u001b[0;32m\"11\"\u001b[0m\u001b[1;39m,\r\n",
      "    \u001b[0m\u001b[34;1m\"start_offset\"\u001b[0m\u001b[1;39m: \u001b[0m\u001b[0;39m8553\u001b[0m\u001b[1;39m,\r\n",
      "    \u001b[0m\u001b[34;1m\"surface\"\u001b[0m\u001b[1;39m: \u001b[0m\u001b[0;32m\"Thucydide\"\u001b[0m\u001b[1;39m\r\n",
      "  \u001b[1;39m}\u001b[0m\u001b[1;39m,\r\n",
      "  \u001b[0m\u001b[34;1m\"10\"\u001b[0m\u001b[1;39m: \u001b[0m\u001b[1;39m{\r\n",
      "    \u001b[0m\u001b[34;1m\"end_offset\"\u001b[0m\u001b[1;39m: \u001b[0m\u001b[0;39m8427\u001b[0m\u001b[1;39m,\r\n",
      "    \u001b[0m\u001b[34;1m\"entity_type\"\u001b[0m\u001b[1;39m: \u001b[0m\u001b[0;32m\"AAUTHOR\"\u001b[0m\u001b[1;39m,\r\n",
      "    \u001b[0m\u001b[34;1m\"id\"\u001b[0m\u001b[1;39m: \u001b[0m\u001b[0;32m\"10\"\u001b[0m\u001b[1;39m,\r\n",
      "    \u001b[0m\u001b[34;1m\"start_offset\"\u001b[0m\u001b[1;39m: \u001b[0m\u001b[0;39m8416\u001b[0m\u001b[1;39m,\r\n",
      "    \u001b[0m\u001b[34;1m\"surface\"\u001b[0m\u001b[1;39m: \u001b[0m\u001b[0;32m\"Thucydides,\"\u001b[0m\u001b[1;39m\r\n",
      "  \u001b[1;39m}\u001b[0m\u001b[1;39m,\r\n",
      "  \u001b[0m\u001b[34;1m\"13\"\u001b[0m\u001b[1;39m: \u001b[0m\u001b[1;39m{\r\n",
      "    \u001b[0m\u001b[34;1m\"entity_type\"\u001b[0m\u001b[1;39m: \u001b[0m\u001b[0;32m\"REFAUWORK\"\u001b[0m\u001b[1;39m,\r\n",
      "    \u001b[0m\u001b[34;1m\"urn\"\u001b[0m\u001b[1;39m: \u001b[0m\u001b[0;32m\"urn:cts:greekLit:tlg0016.tlg001\"\u001b[0m\u001b[1;39m,\r\n",
      "    \u001b[0m\u001b[34;1m\"start_offset\"\u001b[0m\u001b[1;39m: \u001b[0m\u001b[0;39m9859\u001b[0m\u001b[1;39m,\r\n",
      "    \u001b[0m\u001b[34;1m\"work_uri\"\u001b[0m\u001b[1;39m: \u001b[0m\u001b[0;32m\"http://purl.org/hucit/kb/works/2691\"\u001b[0m\u001b[1;39m,\r\n",
      "    \u001b[0m\u001b[34;1m\"surface\"\u001b[0m\u001b[1;39m: \u001b[0m\u001b[0;32m\"(Hdt.\"\u001b[0m\u001b[1;39m,\r\n",
      "    \u001b[0m\u001b[34;1m\"end_offset\"\u001b[0m\u001b[1;39m: \u001b[0m\u001b[0;39m9864\u001b[0m\u001b[1;39m,\r\n",
      "    \u001b[0m\u001b[34;1m\"id\"\u001b[0m\u001b[1;39m: \u001b[0m\u001b[0;32m\"13\"\u001b[0m\u001b[1;39m\r\n",
      "  \u001b[1;39m}\u001b[0m\u001b[1;39m,\r\n",
      "  \u001b[0m\u001b[34;1m\"12\"\u001b[0m\u001b[1;39m: \u001b[0m\u001b[1;39m{\r\n",
      "    \u001b[0m\u001b[34;1m\"end_offset\"\u001b[0m\u001b[1;39m: \u001b[0m\u001b[0;39m9801\u001b[0m\u001b[1;39m,\r\n",
      "    \u001b[0m\u001b[34;1m\"entity_type\"\u001b[0m\u001b[1;39m: \u001b[0m\u001b[0;32m\"AAUTHOR\"\u001b[0m\u001b[1;39m,\r\n",
      "    \u001b[0m\u001b[34;1m\"id\"\u001b[0m\u001b[1;39m: \u001b[0m\u001b[0;32m\"12\"\u001b[0m\u001b[1;39m,\r\n",
      "    \u001b[0m\u001b[34;1m\"start_offset\"\u001b[0m\u001b[1;39m: \u001b[0m\u001b[0;39m9792\u001b[0m\u001b[1;39m,\r\n",
      "    \u001b[0m\u001b[34;1m\"surface\"\u001b[0m\u001b[1;39m: \u001b[0m\u001b[0;32m\"Herodotus\"\u001b[0m\u001b[1;39m\r\n",
      "  \u001b[1;39m}\u001b[0m\u001b[1;39m,\r\n",
      "  \u001b[0m\u001b[34;1m\"14\"\u001b[0m\u001b[1;39m: \u001b[0m\u001b[1;39m{\r\n",
      "    \u001b[0m\u001b[34;1m\"entity_type\"\u001b[0m\u001b[1;39m: \u001b[0m\u001b[0;32m\"REFSCOPE\"\u001b[0m\u001b[1;39m,\r\n",
      "    \u001b[0m\u001b[34;1m\"norm_scope\"\u001b[0m\u001b[1;39m: \u001b[0m\u001b[0;32m\"3.38.5\"\u001b[0m\u001b[1;39m,\r\n",
      "    \u001b[0m\u001b[34;1m\"start_offset\"\u001b[0m\u001b[1;39m: \u001b[0m\u001b[0;39m9865\u001b[0m\u001b[1;39m,\r\n",
      "    \u001b[0m\u001b[34;1m\"surface\"\u001b[0m\u001b[1;39m: \u001b[0m\u001b[0;32m\"3.38.5).\"\u001b[0m\u001b[1;39m,\r\n",
      "    \u001b[0m\u001b[34;1m\"end_offset\"\u001b[0m\u001b[1;39m: \u001b[0m\u001b[0;39m9873\u001b[0m\u001b[1;39m,\r\n",
      "    \u001b[0m\u001b[34;1m\"id\"\u001b[0m\u001b[1;39m: \u001b[0m\u001b[0;32m\"14\"\u001b[0m\u001b[1;39m\r\n",
      "  \u001b[1;39m}\u001b[0m\u001b[1;39m,\r\n",
      "  \u001b[0m\u001b[34;1m\"1\"\u001b[0m\u001b[1;39m: \u001b[0m\u001b[1;39m{\r\n",
      "    \u001b[0m\u001b[34;1m\"end_offset\"\u001b[0m\u001b[1;39m: \u001b[0m\u001b[0;39m704\u001b[0m\u001b[1;39m,\r\n",
      "    \u001b[0m\u001b[34;1m\"entity_type\"\u001b[0m\u001b[1;39m: \u001b[0m\u001b[0;32m\"AAUTHOR\"\u001b[0m\u001b[1;39m,\r\n",
      "    \u001b[0m\u001b[34;1m\"id\"\u001b[0m\u001b[1;39m: \u001b[0m\u001b[0;32m\"1\"\u001b[0m\u001b[1;39m,\r\n",
      "    \u001b[0m\u001b[34;1m\"start_offset\"\u001b[0m\u001b[1;39m: \u001b[0m\u001b[0;39m694\u001b[0m\u001b[1;39m,\r\n",
      "    \u001b[0m\u001b[34;1m\"surface\"\u001b[0m\u001b[1;39m: \u001b[0m\u001b[0;32m\"Herodotus,\"\u001b[0m\u001b[1;39m\r\n",
      "  \u001b[1;39m}\u001b[0m\u001b[1;39m,\r\n",
      "  \u001b[0m\u001b[34;1m\"3\"\u001b[0m\u001b[1;39m: \u001b[0m\u001b[1;39m{\r\n",
      "    \u001b[0m\u001b[34;1m\"entity_type\"\u001b[0m\u001b[1;39m: \u001b[0m\u001b[0;32m\"REFAUWORK\"\u001b[0m\u001b[1;39m,\r\n",
      "    \u001b[0m\u001b[34;1m\"urn\"\u001b[0m\u001b[1;39m: \u001b[0m\u001b[0;32m\"urn:cts:greekLit:tlg0003.tlg001\"\u001b[0m\u001b[1;39m,\r\n",
      "    \u001b[0m\u001b[34;1m\"start_offset\"\u001b[0m\u001b[1;39m: \u001b[0m\u001b[0;39m1324\u001b[0m\u001b[1;39m,\r\n",
      "    \u001b[0m\u001b[34;1m\"work_uri\"\u001b[0m\u001b[1;39m: \u001b[0m\u001b[0;32m\"http://purl.org/hucit/kb/works/3998\"\u001b[0m\u001b[1;39m,\r\n",
      "    \u001b[0m\u001b[34;1m\"surface\"\u001b[0m\u001b[1;39m: \u001b[0m\u001b[0;32m\"(Thuc.\"\u001b[0m\u001b[1;39m,\r\n",
      "    \u001b[0m\u001b[34;1m\"end_offset\"\u001b[0m\u001b[1;39m: \u001b[0m\u001b[0;39m1330\u001b[0m\u001b[1;39m,\r\n",
      "    \u001b[0m\u001b[34;1m\"id\"\u001b[0m\u001b[1;39m: \u001b[0m\u001b[0;32m\"3\"\u001b[0m\u001b[1;39m\r\n",
      "  \u001b[1;39m}\u001b[0m\u001b[1;39m,\r\n",
      "  \u001b[0m\u001b[34;1m\"2\"\u001b[0m\u001b[1;39m: \u001b[0m\u001b[1;39m{\r\n",
      "    \u001b[0m\u001b[34;1m\"end_offset\"\u001b[0m\u001b[1;39m: \u001b[0m\u001b[0;39m715\u001b[0m\u001b[1;39m,\r\n",
      "    \u001b[0m\u001b[34;1m\"entity_type\"\u001b[0m\u001b[1;39m: \u001b[0m\u001b[0;32m\"AAUTHOR\"\u001b[0m\u001b[1;39m,\r\n",
      "    \u001b[0m\u001b[34;1m\"id\"\u001b[0m\u001b[1;39m: \u001b[0m\u001b[0;32m\"2\"\u001b[0m\u001b[1;39m,\r\n",
      "    \u001b[0m\u001b[34;1m\"start_offset\"\u001b[0m\u001b[1;39m: \u001b[0m\u001b[0;39m705\u001b[0m\u001b[1;39m,\r\n",
      "    \u001b[0m\u001b[34;1m\"surface\"\u001b[0m\u001b[1;39m: \u001b[0m\u001b[0;32m\"Thucydides\"\u001b[0m\u001b[1;39m\r\n",
      "  \u001b[1;39m}\u001b[0m\u001b[1;39m,\r\n",
      "  \u001b[0m\u001b[34;1m\"5\"\u001b[0m\u001b[1;39m: \u001b[0m\u001b[1;39m{\r\n",
      "    \u001b[0m\u001b[34;1m\"entity_type\"\u001b[0m\u001b[1;39m: \u001b[0m\u001b[0;32m\"REFAUWORK\"\u001b[0m\u001b[1;39m,\r\n",
      "    \u001b[0m\u001b[34;1m\"urn\"\u001b[0m\u001b[1;39m: \u001b[0m\u001b[0;32m\"urn:cts:greekLit:tlg0032.tlg001\"\u001b[0m\u001b[1;39m,\r\n",
      "    \u001b[0m\u001b[34;1m\"start_offset\"\u001b[0m\u001b[1;39m: \u001b[0m\u001b[0;39m1344\u001b[0m\u001b[1;39m,\r\n",
      "    \u001b[0m\u001b[34;1m\"work_uri\"\u001b[0m\u001b[1;39m: \u001b[0m\u001b[0;32m\"http://purl.org/hucit/kb/works/4025\"\u001b[0m\u001b[1;39m,\r\n",
      "    \u001b[0m\u001b[34;1m\"surface\"\u001b[0m\u001b[1;39m: \u001b[0m\u001b[0;32m\"Xen. Hell.\"\u001b[0m\u001b[1;39m,\r\n",
      "    \u001b[0m\u001b[34;1m\"end_offset\"\u001b[0m\u001b[1;39m: \u001b[0m\u001b[0;39m1354\u001b[0m\u001b[1;39m,\r\n",
      "    \u001b[0m\u001b[34;1m\"id\"\u001b[0m\u001b[1;39m: \u001b[0m\u001b[0;32m\"5\"\u001b[0m\u001b[1;39m\r\n",
      "  \u001b[1;39m}\u001b[0m\u001b[1;39m,\r\n",
      "  \u001b[0m\u001b[34;1m\"4\"\u001b[0m\u001b[1;39m: \u001b[0m\u001b[1;39m{\r\n",
      "    \u001b[0m\u001b[34;1m\"entity_type\"\u001b[0m\u001b[1;39m: \u001b[0m\u001b[0;32m\"REFSCOPE\"\u001b[0m\u001b[1;39m,\r\n",
      "    \u001b[0m\u001b[34;1m\"norm_scope\"\u001b[0m\u001b[1;39m: \u001b[0m\u001b[0;32m\"1.101.2\"\u001b[0m\u001b[1;39m,\r\n",
      "    \u001b[0m\u001b[34;1m\"start_offset\"\u001b[0m\u001b[1;39m: \u001b[0m\u001b[0;39m1331\u001b[0m\u001b[1;39m,\r\n",
      "    \u001b[0m\u001b[34;1m\"surface\"\u001b[0m\u001b[1;39m: \u001b[0m\u001b[0;32m\"1.101.2.\"\u001b[0m\u001b[1;39m,\r\n",
      "    \u001b[0m\u001b[34;1m\"end_offset\"\u001b[0m\u001b[1;39m: \u001b[0m\u001b[0;39m1339\u001b[0m\u001b[1;39m,\r\n",
      "    \u001b[0m\u001b[34;1m\"id\"\u001b[0m\u001b[1;39m: \u001b[0m\u001b[0;32m\"4\"\u001b[0m\u001b[1;39m\r\n",
      "  \u001b[1;39m}\u001b[0m\u001b[1;39m,\r\n",
      "  \u001b[0m\u001b[34;1m\"7\"\u001b[0m\u001b[1;39m: \u001b[0m\u001b[1;39m{\r\n",
      "    \u001b[0m\u001b[34;1m\"entity_type\"\u001b[0m\u001b[1;39m: \u001b[0m\u001b[0;32m\"REFAUWORK\"\u001b[0m\u001b[1;39m,\r\n",
      "    \u001b[0m\u001b[34;1m\"urn\"\u001b[0m\u001b[1;39m: \u001b[0m\u001b[0;32m\"urn:cts:GreekLatinLit:NIL\"\u001b[0m\u001b[1;39m,\r\n",
      "    \u001b[0m\u001b[34;1m\"start_offset\"\u001b[0m\u001b[1;39m: \u001b[0m\u001b[0;39m3740\u001b[0m\u001b[1;39m,\r\n",
      "    \u001b[0m\u001b[34;1m\"surface\"\u001b[0m\u001b[1;39m: \u001b[0m\u001b[0;32m\"Dike\"\u001b[0m\u001b[1;39m,\r\n",
      "    \u001b[0m\u001b[34;1m\"end_offset\"\u001b[0m\u001b[1;39m: \u001b[0m\u001b[0;39m3744\u001b[0m\u001b[1;39m,\r\n",
      "    \u001b[0m\u001b[34;1m\"id\"\u001b[0m\u001b[1;39m: \u001b[0m\u001b[0;32m\"7\"\u001b[0m\u001b[1;39m\r\n",
      "  \u001b[1;39m}\u001b[0m\u001b[1;39m,\r\n",
      "  \u001b[0m\u001b[34;1m\"6\"\u001b[0m\u001b[1;39m: \u001b[0m\u001b[1;39m{\r\n",
      "    \u001b[0m\u001b[34;1m\"entity_type\"\u001b[0m\u001b[1;39m: \u001b[0m\u001b[0;32m\"REFSCOPE\"\u001b[0m\u001b[1;39m,\r\n",
      "    \u001b[0m\u001b[34;1m\"norm_scope\"\u001b[0m\u001b[1;39m: \u001b[0m\u001b[0;32m\"3.3\"\u001b[0m\u001b[1;39m,\r\n",
      "    \u001b[0m\u001b[34;1m\"start_offset\"\u001b[0m\u001b[1;39m: \u001b[0m\u001b[0;39m1355\u001b[0m\u001b[1;39m,\r\n",
      "    \u001b[0m\u001b[34;1m\"surface\"\u001b[0m\u001b[1;39m: \u001b[0m\u001b[0;32m\"3.3)\"\u001b[0m\u001b[1;39m,\r\n",
      "    \u001b[0m\u001b[34;1m\"end_offset\"\u001b[0m\u001b[1;39m: \u001b[0m\u001b[0;39m1359\u001b[0m\u001b[1;39m,\r\n",
      "    \u001b[0m\u001b[34;1m\"id\"\u001b[0m\u001b[1;39m: \u001b[0m\u001b[0;32m\"6\"\u001b[0m\u001b[1;39m\r\n",
      "  \u001b[1;39m}\u001b[0m\u001b[1;39m,\r\n",
      "  \u001b[0m\u001b[34;1m\"9\"\u001b[0m\u001b[1;39m: \u001b[0m\u001b[1;39m{\r\n",
      "    \u001b[0m\u001b[34;1m\"end_offset\"\u001b[0m\u001b[1;39m: \u001b[0m\u001b[0;39m4803\u001b[0m\u001b[1;39m,\r\n",
      "    \u001b[0m\u001b[34;1m\"entity_type\"\u001b[0m\u001b[1;39m: \u001b[0m\u001b[0;32m\"AAUTHOR\"\u001b[0m\u001b[1;39m,\r\n",
      "    \u001b[0m\u001b[34;1m\"id\"\u001b[0m\u001b[1;39m: \u001b[0m\u001b[0;32m\"9\"\u001b[0m\u001b[1;39m,\r\n",
      "    \u001b[0m\u001b[34;1m\"start_offset\"\u001b[0m\u001b[1;39m: \u001b[0m\u001b[0;39m4790\u001b[0m\u001b[1;39m,\r\n",
      "    \u001b[0m\u001b[34;1m\"surface\"\u001b[0m\u001b[1;39m: \u001b[0m\u001b[0;32m\"Aristophanes,\"\u001b[0m\u001b[1;39m\r\n",
      "  \u001b[1;39m}\u001b[0m\u001b[1;39m,\r\n",
      "  \u001b[0m\u001b[34;1m\"8\"\u001b[0m\u001b[1;39m: \u001b[0m\u001b[1;39m{\r\n",
      "    \u001b[0m\u001b[34;1m\"entity_type\"\u001b[0m\u001b[1;39m: \u001b[0m\u001b[0;32m\"REFSCOPE\"\u001b[0m\u001b[1;39m,\r\n",
      "    \u001b[0m\u001b[34;1m\"norm_scope\"\u001b[0m\u001b[1;39m: \u001b[0m\u001b[0;32m\"12-13\"\u001b[0m\u001b[1;39m,\r\n",
      "    \u001b[0m\u001b[34;1m\"start_offset\"\u001b[0m\u001b[1;39m: \u001b[0m\u001b[0;39m3745\u001b[0m\u001b[1;39m,\r\n",
      "    \u001b[0m\u001b[34;1m\"surface\"\u001b[0m\u001b[1;39m: \u001b[0m\u001b[0;32m\"12-13,\"\u001b[0m\u001b[1;39m,\r\n",
      "    \u001b[0m\u001b[34;1m\"end_offset\"\u001b[0m\u001b[1;39m: \u001b[0m\u001b[0;39m3751\u001b[0m\u001b[1;39m,\r\n",
      "    \u001b[0m\u001b[34;1m\"id\"\u001b[0m\u001b[1;39m: \u001b[0m\u001b[0;32m\"8\"\u001b[0m\u001b[1;39m\r\n",
      "  \u001b[1;39m}\u001b[0m\u001b[1;39m\r\n",
      "\u001b[1;39m}\u001b[0m\r\n"
     ]
    }
   ],
   "source": [
    "cat data/json/bmcr_2013-01-10.json | jq \".|.entities\""
   ]
  },
  {
   "cell_type": "markdown",
   "metadata": {},
   "source": [
    "# Read extracted citations"
   ]
  },
  {
   "cell_type": "markdown",
   "metadata": {},
   "source": [
    "Now that the processing is complete, let's see how to compile a list of extracted citations, together with their identifiers."
   ]
  },
  {
   "cell_type": "markdown",
   "metadata": {},
   "source": [
    "To do so, it is necessary to read the JSON output file and prepare the data so that it can stored, for example, into a pandas' `DataFrame`."
   ]
  },
  {
   "cell_type": "code",
   "execution_count": 48,
   "metadata": {
    "code_folding": [
     5
    ]
   },
   "outputs": [],
   "source": [
    "import os\n",
    "import codecs\n",
    "import json\n",
    "import pandas as pd\n",
    "\n",
    "def read_json(doc_dir, doc_id):\n",
    "    \n",
    "    inp_file_path = os.path.join(doc_dir, doc_id)\n",
    "    records = []\n",
    "    \n",
    "    # read input file\n",
    "    with codecs.open(inp_file_path, 'r', 'utf-8') as inpfile:\n",
    "        doc = json.load(inpfile)\n",
    "        \n",
    "    # iterate through the extracted relations\n",
    "    for relation in doc['relations']:\n",
    "        \n",
    "        # for each relation, resolve the entity ID\n",
    "        # to get the corresponding record from the JSON document\n",
    "        arg1_id, arg2_id = doc['relations'][relation]\n",
    "        arg1 = doc['entities'][arg1_id]\n",
    "        arg2 = doc['entities'][arg2_id]\n",
    "        \n",
    "        # if the current relation is unlinked (it has a NIL identifier)\n",
    "        # it will have no scope, so treat it differently\n",
    "        if arg1['urn'] != 'urn:cts:GreekLatinLit:NIL':\n",
    "            passage_urn = arg1['urn'] + \":\" + arg2['norm_scope']\n",
    "        else:\n",
    "            passage_urn = None\n",
    "        \n",
    "        # append a dictionary to the list of records\n",
    "        records.append({\n",
    "            \"docid\": doc_id,\n",
    "            \"surface\": arg1['surface'] + \" \" + arg2['surface'],\n",
    "            \"passage_urn\": passage_urn,\n",
    "            \"work_urn\": arg1['urn'],\n",
    "            \"work_uri\": arg1['work_uri'] if 'work_uri' in arg1 else None\n",
    "        })\n",
    "        \n",
    "    return records"
   ]
  },
  {
   "cell_type": "code",
   "execution_count": 49,
   "metadata": {},
   "outputs": [],
   "source": [
    "# we use a custom function (see cell above) to read the\n",
    "# output JSON file into a DataFrame\n",
    "\n",
    "data = pd.DataFrame(\n",
    "    read_json('data/json/', 'bmcr_2013-01-10.json')\n",
    ").set_index('docid')"
   ]
  },
  {
   "cell_type": "code",
   "execution_count": 50,
   "metadata": {},
   "outputs": [
    {
     "data": {
      "text/html": [
       "<div>\n",
       "<style scoped>\n",
       "    .dataframe tbody tr th:only-of-type {\n",
       "        vertical-align: middle;\n",
       "    }\n",
       "\n",
       "    .dataframe tbody tr th {\n",
       "        vertical-align: top;\n",
       "    }\n",
       "\n",
       "    .dataframe thead th {\n",
       "        text-align: right;\n",
       "    }\n",
       "</style>\n",
       "<table border=\"1\" class=\"dataframe\">\n",
       "  <thead>\n",
       "    <tr style=\"text-align: right;\">\n",
       "      <th></th>\n",
       "      <th>passage_urn</th>\n",
       "      <th>surface</th>\n",
       "      <th>work_uri</th>\n",
       "      <th>work_urn</th>\n",
       "    </tr>\n",
       "    <tr>\n",
       "      <th>docid</th>\n",
       "      <th></th>\n",
       "      <th></th>\n",
       "      <th></th>\n",
       "      <th></th>\n",
       "    </tr>\n",
       "  </thead>\n",
       "  <tbody>\n",
       "    <tr>\n",
       "      <th>bmcr_2013-01-10.json</th>\n",
       "      <td>urn:cts:greekLit:tlg0016.tlg001:3.38.5</td>\n",
       "      <td>(Hdt. 3.38.5).</td>\n",
       "      <td>http://purl.org/hucit/kb/works/2691</td>\n",
       "      <td>urn:cts:greekLit:tlg0016.tlg001</td>\n",
       "    </tr>\n",
       "    <tr>\n",
       "      <th>bmcr_2013-01-10.json</th>\n",
       "      <td>urn:cts:greekLit:tlg0003.tlg001:1.101.2</td>\n",
       "      <td>(Thuc. 1.101.2.</td>\n",
       "      <td>http://purl.org/hucit/kb/works/3998</td>\n",
       "      <td>urn:cts:greekLit:tlg0003.tlg001</td>\n",
       "    </tr>\n",
       "    <tr>\n",
       "      <th>bmcr_2013-01-10.json</th>\n",
       "      <td>urn:cts:greekLit:tlg0032.tlg001:3.3</td>\n",
       "      <td>Xen. Hell. 3.3)</td>\n",
       "      <td>http://purl.org/hucit/kb/works/4025</td>\n",
       "      <td>urn:cts:greekLit:tlg0032.tlg001</td>\n",
       "    </tr>\n",
       "    <tr>\n",
       "      <th>bmcr_2013-01-10.json</th>\n",
       "      <td>None</td>\n",
       "      <td>Dike 12-13,</td>\n",
       "      <td>None</td>\n",
       "      <td>urn:cts:GreekLatinLit:NIL</td>\n",
       "    </tr>\n",
       "  </tbody>\n",
       "</table>\n",
       "</div>"
      ],
      "text/plain": [
       "                                                  passage_urn  \\\n",
       "docid                                                           \n",
       "bmcr_2013-01-10.json   urn:cts:greekLit:tlg0016.tlg001:3.38.5   \n",
       "bmcr_2013-01-10.json  urn:cts:greekLit:tlg0003.tlg001:1.101.2   \n",
       "bmcr_2013-01-10.json      urn:cts:greekLit:tlg0032.tlg001:3.3   \n",
       "bmcr_2013-01-10.json                                     None   \n",
       "\n",
       "                              surface                             work_uri  \\\n",
       "docid                                                                        \n",
       "bmcr_2013-01-10.json   (Hdt. 3.38.5).  http://purl.org/hucit/kb/works/2691   \n",
       "bmcr_2013-01-10.json  (Thuc. 1.101.2.  http://purl.org/hucit/kb/works/3998   \n",
       "bmcr_2013-01-10.json  Xen. Hell. 3.3)  http://purl.org/hucit/kb/works/4025   \n",
       "bmcr_2013-01-10.json      Dike 12-13,                                 None   \n",
       "\n",
       "                                             work_urn  \n",
       "docid                                                  \n",
       "bmcr_2013-01-10.json  urn:cts:greekLit:tlg0016.tlg001  \n",
       "bmcr_2013-01-10.json  urn:cts:greekLit:tlg0003.tlg001  \n",
       "bmcr_2013-01-10.json  urn:cts:greekLit:tlg0032.tlg001  \n",
       "bmcr_2013-01-10.json        urn:cts:GreekLatinLit:NIL  "
      ]
     },
     "execution_count": 50,
     "metadata": {},
     "output_type": "execute_result"
    }
   ],
   "source": [
    "df"
   ]
  },
  {
   "cell_type": "markdown",
   "metadata": {},
   "source": [
    "Now you can compare the above list of extracted citations with the original input document. As you can see, some references were correctly identified while others were missed. \n",
    "\n",
    "Interestingly \"Dike 12-13,\" looked like a canonical citation to the extractor, but ultimately it did not receive a URN."
   ]
  },
  {
   "cell_type": "code",
   "execution_count": 51,
   "metadata": {},
   "outputs": [
    {
     "name": "stdout",
     "output_type": "stream",
     "text": [
      "Bryn Mawr Classical Review\r\n",
      "BMCR 2013.01.10 on the BMCR blog\r\n",
      "\r\n",
      "Bryn Mawr Classical Review 2013.01.10\r\n",
      "Mélina​ Tamiolaki, Liberté et esclavage chez les historiens grecs classiques. Hellenica​.   Paris:  Presses de l'Université Paris-Sorbonne (PUPS)​, 2010.  Pp. 503.  ISBN 9782840506881.  €28.00 (pb).   \r\n",
      "\r\n",
      "Reviewed by Alberto Maffi, University of Milano-Bicocca (alberto.maffi@unimib.it)\r\n",
      "The book is divided into three parts: Liberté et esclavage entre les cités ou les peuples; Liberté et esclavage à l’intérieur des cités ou des peuples; Liberté et esclavage en dehors de la cité. Each of the first two parts is in turn divided into three chapters, dedicated respectively to the analysis of the work of Herodotus, Thucydides and Xenophon. The third part is divided into two chapters, and is devoted to analyzing all of the works of Xenophon: the first chapter, entitled Les limites et les ambiguïtés de la soumission volontaire au chef charismatique, contains an analysis of the Cyropedia, which is followed by a study of the Oeconomicus (in relation to the submission of the slaves and the master's wife), the second chapter is entitled L’exemple de Socrate comme chef exceptionnel et la réflexion sur la liberté du monde intérieur. The volume concludes with two appendices containing the critical exegesis of two famous passages (Thuc. 1.101.2. and Xen. Hell. 3.3) and a table containing the terminology of freedom and slavery in the works of the three historians.\r\n",
      "\r\n",
      "In his preface, K. A. Raaflaub identifies the merit of the book as the choice to treat freedom and slavery not as separate phenomena but as related notions. Tamiolaki in turn (p. 19) underlines the importance of a statement by Finley, that \"one aspect of Greek history, in short, is the advance, hand in hand, of freedom and slavery”.1 It could be argued that this finding is self-evident in a society, such as the Greek, where the notion of personal freedom cannot but oppose the notion of slavery. It is also true, however, that, in the Greek world, this contrast is characterized by a considerable ambiguity. On the one hand, the status of a free person must be further qualified according to the position he or she occupies within the political structure: although they are all free, citizen and resident alien, men and women do not enjoy the same rights. On the other hand, the condition of the slave is not a monolithic bloc, because, to use the already canonical expression, a series of intermediate states between free and slave is attested in Greece, according to different times and places. However, this problem does not concern Tamiolaki. What interests her is whether the assertion of Finley can be applied to the relationship between individual freedom and slavery on the one hand, and between collective freedom and slavery on the other: can an interaction be found or they are two independent points of view? Tamiolaki notes that the scholars who have dealt with freedom, have emphasized its political nature, while the scholars of slavery have stressed the social character of the phenomenon, without considering its relationship to freedom (p. 19). Hence the interest of a study of the interrelationship between freedom and slavery in the three major Greek historians. But why only these authors? Here's how Tamiolaki justifies the decision to limit the investigation only to their works (p. 19):\r\n",
      "\r\n",
      "la limitation du corpus aux trois historiens majeurs des V et IV siècles est justifiée par le fait que dans leur corpus toutes les sortes de liberté et d’esclavage apparaissent (liberté politique, individuelle, philosophique, esclavage individuel et métaphorique), ce qui permet une approche plus synthétique de deux phénomènes.\r\n",
      "As I emphasized in my review in Dike 12-13, this motivation is not fully convincing. First of all, to exclude non- literary sources, especially inscriptions, means to deprive oneself of a source of primary importance for the study of the interaction between freedom and slavery (I’ll give just one example: In the laws of Gortyn –Inscr. Cret. IV- most rules focus on the fundamental opposition between eleutheroi and douloi). But even if one limits oneself to literary sources, the exclusion of particular authors (especially surprising is that Ps.-Xenophon’s Athenaion Politeia, a text crucial to the subject studied by Tamiolaki, is mentioned only in some footnotes, e.g. p. 256 n. 106), and whole literary genres, is not sufficiently motivated. In particular, Tamiolaki excludes epic and lyric poetry, tragedy, rhetoric, and philosophical texts because in these works (p. 20)\r\n",
      "\r\n",
      "les questions de la liberté et de l'esclavage sont présentes, mais une combinaison de deux perspectives ne peut pas être facilement établie.\r\n",
      "In fact, Tamiolaki admits that in the tragic texts and in Aristophanes, as well as in the philosophical and rhetorical works, freedom and slavery are interrelated. But, according to Tamiolaki, they are not \"des fils conducteurs principaux de leur pensée\" (p. 21). To these statements it can be replied that in the three great historians a relationship between freedom and slavery is not always noticeable and, in any case, it is not even the main theme of their thought. At this point one might ask why the author considers it necessary to provide these excusationes non petitae. The answer may lie in the fact that Tamiolaki claims the merit of having attempted to establish a dialogue between literature and history. She writes (p. 25):\r\n",
      "\r\n",
      "En ce qui concerne la nature de notre analyse, les études sur les historiens grecs sont au croisement de disciplines différentes: la littérature, l’histoire, les sciences politiques ... la philosophie. Dans cette étude nous avons essayé d’adopter un point de vue le plus ample possible... Ainsi, nous avons essayé d’ancrer le phénomène de la liberté et de l’esclavage dans la réalité historique en examinant comment le contexte historique définit la présentation littéraire. Toutefois nous sommes aussi souvent amenés à la procédure inverse: voir si une étude méticuleuse du récit historique... peut contribuer à une meilleure reconstruction de la réalité historique.”\r\n",
      "It seems to me that just by the fact that the object of research is limited to the work of the three historians without considering other sources, an attempt to reconstruct the historical reality is only a secondary objective for Tamiolaki. The selection criteria of the (extensive) bibliography, which, as Raaflaub rightly emphasizes, is fully mastered by Tamiolaki, certify that her main interest is literary. Essentially, she tries to reconstruct the criteria that guided ancient historians in choosing a particular structure for their works; she also analyses the intertextual relations between these works. She shows less interest in establishing the accuracy of the facts reported by ancient historians. Persian history, for example, plays an important role in the book, and yet the references are reduced to the synthetic works, though important, of Briant and Sancisi-Weerdenburg). We can reach an analogous conclusion if we now turn to consider the third part of the book, which is devoted to the analysis of non-historiographical works of Xenophon. Apart from the fact that the title Liberté et esclavage en dehors de la cité is not justified, Tamiolaki’s attempt to see the exaltation of voluntary submission on the one hand and of Socratic freedom on the other, as the result of a change in the concept of political freedom, which would characterize the first half of the fourth century (a view advanced in haste during the Conclusion, p. 401), runs the risk of looking like an expedient to reconnect the first two parts of the work to what is actually a small separate monograph on the philosophical and political thought of Xenophon.\r\n",
      "\r\n",
      "So we can say that the real content and, at the same time, the merit of the book consists in the exegesis of the passages in which the three historians use the concepts of freedom and slavery. Tamiolaki proposes detailed and often convincing explanations of their assessments in terms of freedom and slavery concerning historical events, and especially of the reasons that motivated the historians to introduce, in speeches held by the protagonists, arguments or statements based on the relationship between freedom and slavery. Less convincing are the general conclusions on the attitudes of the historians (concerning Thucydides, for example, see the title of Chapter II of Part I, \"«Désidéologisation» de la liberté et politisation de l'esclavage chez Thucydide\", or the conclusion of chapter V, where Tamiolaki argues that the historian had a limited interest in the theme of freedom within the city, from which follows a limited interest in the slaves: p. 255 -256). This is not the place to examine more closely the individual topics dealt with by Tamiolaki. I will limit myself to a few remarks on the section entitled \"La question du nomos comme obstacle à la liberté\" (p. 220 ff.). Meanwhile, I note that the references to the meaning of the term in the legal-historical context of the period appear to be very succinct, if not inaccurate, as, for example, on p. 221, n. 71, where Tamiolaki writes, among other things: \"De plus, la distinction entre la loi et la coutume n’est parfois que méthodologique, puisque la loi peut être considérée comme une évolution de la coutume, dénotant son expression juridique et politique dans une société organisée: ce qui est une pratique abstraite (la coutume) devient ainsi une obligation concrète\", a statement that no historian of the law would consider acceptable. But also the exegesis of the passages examined by the author in this context does not seem convincing. As for \"coutume et liberté\" Tamiolaki quotes the famous passage in which Herodotus endorses the statement of Pindar: nomos panton basileus (Hdt. 3.38.5). According to Tamiolaki, the fact that Darius did not succeed in imposing his will on the customs of the peoples subject to him, \"montre une sorte de contestation du pouvoir de la coutume: la constatation même de la royauté de la coutume prépare le chemin pour la légitimation de sa deconstruction\" (p. 223). Apart from the use of the term \"deconstruction\", which seems to me only create confusion, it is unclear to me whether the contestation of the power of the custom should be attributed to Herodotus or to Darius. As for the theme \"Loi et liberté\", Tamiolaki refers to the famous dialogue between Xerxes and Demaratus: her thesis is that the submission of the Spartans to the law, which requires them to win or die, presents elements common to the submission of the Persian soldiers to the despotic power of the Persian king (p. 223-226). I do not believe, however, that this interpretation captures the sense of the response of Demaratus. Certainly there were in Sparta sanctions against those who had showed cowardice in battle, but it is not the fear of such sanctions that leads the Spartans to submit to the law, while it is the fear of punishment (the whip: Hdt. 7.104 ) that ensures the obedience of the Persian soldiers. Finally, Tamiolaki establishes a comparison between the attitude to war of the Spartans and the Athenians (referred to by Hdt. 5.78: p. 227-228). The Athenians fought valiantly because, thanks to the democratic regime, they got rid of the tyrants who forced them to fight on their behalf. So it is a freedom more complete than Spartan freedom. In fact it seems to me that there is a common element between the Spartans and Athenians: they fought both on the basis of their free choice, not by order of a lord or a master. Here, as elsewhere in the book, a contradiction seems to arise between the awareness that the freedom historians are talking about must always be understood in context (see the reference to the \"libertés différentes\" placed at opening of the book, p. 31) and the idea that it is always possible to compare the historians’ freedom with a freedom understood as a \"valeur indépendante\" (p. 227), and thus fundamentally anachronistic.\r\n",
      "\r\n",
      "Ultimately we can say that the intent of Tamiolaki to relate freedom and slavery in the work of the three major Greek historians did not lead in general either to a better understanding of the historical events described by them or to secure a reconstruction of their attitude towards the relationship between freedom and slavery. However, in many cases Tamiolaki has suggested new textual interpretations, which, although not always persuasive, are challenging received wisdom.\r\n",
      "\r\n",
      "[For a response to this review by Melina Tamiolaki, please see BMCR 2013.01.62.] ​\r\n",
      "\r\n",
      "Notes:\r\n",
      "\r\n",
      "1.   M. I. Finley, “Was Greek Civilization Based on Slave Labour?” Historia: Zeitschrift für Alte Geschichte 8 (1959): 164. ​\r\n",
      "\r\n",
      "Read comments on this review or add a comment on the BMCR blog"
     ]
    }
   ],
   "source": [
    "!cat data/orig/bmcr_2013-01-10.txt"
   ]
  }
 ],
 "metadata": {
  "kernelspec": {
   "display_name": "Python 2",
   "language": "python",
   "name": "python2"
  },
  "language_info": {
   "codemirror_mode": {
    "name": "ipython",
    "version": 2
   },
   "file_extension": ".py",
   "mimetype": "text/x-python",
   "name": "python",
   "nbconvert_exporter": "python",
   "pygments_lexer": "ipython2",
   "version": "2.7.13"
  },
  "toc": {
   "base_numbering": 1,
   "nav_menu": {},
   "number_sections": true,
   "sideBar": true,
   "skip_h1_title": false,
   "title_cell": "Table of Contents",
   "title_sidebar": "Contents",
   "toc_cell": false,
   "toc_position": {
    "height": "calc(100% - 180px)",
    "left": "10px",
    "top": "150px",
    "width": "216px"
   },
   "toc_section_display": true,
   "toc_window_display": true
  }
 },
 "nbformat": 4,
 "nbformat_minor": 2
}
